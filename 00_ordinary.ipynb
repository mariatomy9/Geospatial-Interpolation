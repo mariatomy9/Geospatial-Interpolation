{
  "nbformat": 4,
  "nbformat_minor": 0,
  "metadata": {
    "kernelspec": {
      "display_name": "Python 3",
      "language": "python",
      "name": "python3"
    },
    "language_info": {
      "codemirror_mode": {
        "name": "ipython",
        "version": 3
      },
      "file_extension": ".py",
      "mimetype": "text/x-python",
      "name": "python",
      "nbconvert_exporter": "python",
      "pygments_lexer": "ipython3",
      "version": "3.7.9"
    },
    "colab": {
      "name": "00_ordinary.ipynb",
      "provenance": [],
      "include_colab_link": true
    }
  },
  "cells": [
    {
      "cell_type": "markdown",
      "metadata": {
        "id": "view-in-github",
        "colab_type": "text"
      },
      "source": [
        "<a href=\"https://colab.research.google.com/github/mariatomy9/Geospatial-Interpolation/blob/main/00_ordinary.ipynb\" target=\"_parent\"><img src=\"https://colab.research.google.com/assets/colab-badge.svg\" alt=\"Open In Colab\"/></a>"
      ]
    },
    {
      "cell_type": "code",
      "metadata": {
        "id": "JWlofXMF7n6P"
      },
      "source": [
        "%matplotlib inline"
      ],
      "execution_count": null,
      "outputs": []
    },
    {
      "cell_type": "markdown",
      "metadata": {
        "id": "IAiNTkjX7n6U"
      },
      "source": [
        "\n",
        "# Ordinary Kriging Example\n",
        "\n",
        "First we will create a 2D dataset together with the associated x, y grids.\n"
      ]
    },
    {
      "cell_type": "code",
      "metadata": {
        "colab": {
          "base_uri": "https://localhost:8080/"
        },
        "id": "JL26HEdR7zLi",
        "outputId": "9190a0a0-00ca-4413-b98e-585819d51091"
      },
      "source": [
        "! pip install PyKrige"
      ],
      "execution_count": null,
      "outputs": [
        {
          "output_type": "stream",
          "name": "stdout",
          "text": [
            "Collecting PyKrige\n",
            "  Downloading PyKrige-1.6.1-cp37-cp37m-manylinux_2_5_x86_64.manylinux1_x86_64.manylinux_2_12_x86_64.manylinux2010_x86_64.whl (734 kB)\n",
            "\u001b[?25l\r\u001b[K     |▌                               | 10 kB 31.3 MB/s eta 0:00:01\r\u001b[K     |█                               | 20 kB 34.4 MB/s eta 0:00:01\r\u001b[K     |█▍                              | 30 kB 27.5 MB/s eta 0:00:01\r\u001b[K     |█▉                              | 40 kB 24.6 MB/s eta 0:00:01\r\u001b[K     |██▎                             | 51 kB 19.7 MB/s eta 0:00:01\r\u001b[K     |██▊                             | 61 kB 14.0 MB/s eta 0:00:01\r\u001b[K     |███▏                            | 71 kB 13.9 MB/s eta 0:00:01\r\u001b[K     |███▋                            | 81 kB 15.4 MB/s eta 0:00:01\r\u001b[K     |████                            | 92 kB 16.1 MB/s eta 0:00:01\r\u001b[K     |████▌                           | 102 kB 12.0 MB/s eta 0:00:01\r\u001b[K     |█████                           | 112 kB 12.0 MB/s eta 0:00:01\r\u001b[K     |█████▍                          | 122 kB 12.0 MB/s eta 0:00:01\r\u001b[K     |█████▉                          | 133 kB 12.0 MB/s eta 0:00:01\r\u001b[K     |██████▎                         | 143 kB 12.0 MB/s eta 0:00:01\r\u001b[K     |██████▊                         | 153 kB 12.0 MB/s eta 0:00:01\r\u001b[K     |███████▏                        | 163 kB 12.0 MB/s eta 0:00:01\r\u001b[K     |███████▋                        | 174 kB 12.0 MB/s eta 0:00:01\r\u001b[K     |████████                        | 184 kB 12.0 MB/s eta 0:00:01\r\u001b[K     |████████▌                       | 194 kB 12.0 MB/s eta 0:00:01\r\u001b[K     |█████████                       | 204 kB 12.0 MB/s eta 0:00:01\r\u001b[K     |█████████▍                      | 215 kB 12.0 MB/s eta 0:00:01\r\u001b[K     |█████████▉                      | 225 kB 12.0 MB/s eta 0:00:01\r\u001b[K     |██████████▎                     | 235 kB 12.0 MB/s eta 0:00:01\r\u001b[K     |██████████▊                     | 245 kB 12.0 MB/s eta 0:00:01\r\u001b[K     |███████████▏                    | 256 kB 12.0 MB/s eta 0:00:01\r\u001b[K     |███████████▋                    | 266 kB 12.0 MB/s eta 0:00:01\r\u001b[K     |████████████                    | 276 kB 12.0 MB/s eta 0:00:01\r\u001b[K     |████████████▌                   | 286 kB 12.0 MB/s eta 0:00:01\r\u001b[K     |█████████████                   | 296 kB 12.0 MB/s eta 0:00:01\r\u001b[K     |█████████████▍                  | 307 kB 12.0 MB/s eta 0:00:01\r\u001b[K     |█████████████▉                  | 317 kB 12.0 MB/s eta 0:00:01\r\u001b[K     |██████████████▎                 | 327 kB 12.0 MB/s eta 0:00:01\r\u001b[K     |██████████████▊                 | 337 kB 12.0 MB/s eta 0:00:01\r\u001b[K     |███████████████▏                | 348 kB 12.0 MB/s eta 0:00:01\r\u001b[K     |███████████████▋                | 358 kB 12.0 MB/s eta 0:00:01\r\u001b[K     |████████████████                | 368 kB 12.0 MB/s eta 0:00:01\r\u001b[K     |████████████████▌               | 378 kB 12.0 MB/s eta 0:00:01\r\u001b[K     |█████████████████               | 389 kB 12.0 MB/s eta 0:00:01\r\u001b[K     |█████████████████▍              | 399 kB 12.0 MB/s eta 0:00:01\r\u001b[K     |█████████████████▉              | 409 kB 12.0 MB/s eta 0:00:01\r\u001b[K     |██████████████████▎             | 419 kB 12.0 MB/s eta 0:00:01\r\u001b[K     |██████████████████▊             | 430 kB 12.0 MB/s eta 0:00:01\r\u001b[K     |███████████████████▏            | 440 kB 12.0 MB/s eta 0:00:01\r\u001b[K     |███████████████████▋            | 450 kB 12.0 MB/s eta 0:00:01\r\u001b[K     |████████████████████            | 460 kB 12.0 MB/s eta 0:00:01\r\u001b[K     |████████████████████▌           | 471 kB 12.0 MB/s eta 0:00:01\r\u001b[K     |█████████████████████           | 481 kB 12.0 MB/s eta 0:00:01\r\u001b[K     |█████████████████████▍          | 491 kB 12.0 MB/s eta 0:00:01\r\u001b[K     |█████████████████████▉          | 501 kB 12.0 MB/s eta 0:00:01\r\u001b[K     |██████████████████████▎         | 512 kB 12.0 MB/s eta 0:00:01\r\u001b[K     |██████████████████████▊         | 522 kB 12.0 MB/s eta 0:00:01\r\u001b[K     |███████████████████████▏        | 532 kB 12.0 MB/s eta 0:00:01\r\u001b[K     |███████████████████████▋        | 542 kB 12.0 MB/s eta 0:00:01\r\u001b[K     |████████████████████████        | 552 kB 12.0 MB/s eta 0:00:01\r\u001b[K     |████████████████████████▌       | 563 kB 12.0 MB/s eta 0:00:01\r\u001b[K     |█████████████████████████       | 573 kB 12.0 MB/s eta 0:00:01\r\u001b[K     |█████████████████████████▍      | 583 kB 12.0 MB/s eta 0:00:01\r\u001b[K     |█████████████████████████▉      | 593 kB 12.0 MB/s eta 0:00:01\r\u001b[K     |██████████████████████████▎     | 604 kB 12.0 MB/s eta 0:00:01\r\u001b[K     |██████████████████████████▊     | 614 kB 12.0 MB/s eta 0:00:01\r\u001b[K     |███████████████████████████▏    | 624 kB 12.0 MB/s eta 0:00:01\r\u001b[K     |███████████████████████████▋    | 634 kB 12.0 MB/s eta 0:00:01\r\u001b[K     |████████████████████████████    | 645 kB 12.0 MB/s eta 0:00:01\r\u001b[K     |████████████████████████████▌   | 655 kB 12.0 MB/s eta 0:00:01\r\u001b[K     |█████████████████████████████   | 665 kB 12.0 MB/s eta 0:00:01\r\u001b[K     |█████████████████████████████▍  | 675 kB 12.0 MB/s eta 0:00:01\r\u001b[K     |█████████████████████████████▉  | 686 kB 12.0 MB/s eta 0:00:01\r\u001b[K     |██████████████████████████████▍ | 696 kB 12.0 MB/s eta 0:00:01\r\u001b[K     |██████████████████████████████▉ | 706 kB 12.0 MB/s eta 0:00:01\r\u001b[K     |███████████████████████████████▎| 716 kB 12.0 MB/s eta 0:00:01\r\u001b[K     |███████████████████████████████▊| 727 kB 12.0 MB/s eta 0:00:01\r\u001b[K     |████████████████████████████████| 734 kB 12.0 MB/s \n",
            "\u001b[?25hRequirement already satisfied: numpy<2,>=1.14.5 in /usr/local/lib/python3.7/dist-packages (from PyKrige) (1.19.5)\n",
            "Requirement already satisfied: scipy<2,>=1.1.0 in /usr/local/lib/python3.7/dist-packages (from PyKrige) (1.4.1)\n",
            "Installing collected packages: PyKrige\n",
            "Successfully installed PyKrige-1.6.1\n"
          ]
        }
      ]
    },
    {
      "cell_type": "code",
      "metadata": {
        "id": "FAGP3xlS7n6X"
      },
      "source": [
        "import numpy as np\n",
        "import pykrige.kriging_tools as kt\n",
        "from pykrige.ok import OrdinaryKriging\n",
        "import matplotlib.pyplot as plt\n",
        "\n",
        "\n",
        "data = np.array(\n",
        "    [\n",
        "        [0.3, 1.2, 0.47],\n",
        "        [1.9, 0.6, 0.56],\n",
        "        [1.1, 3.2, 0.74],\n",
        "        [3.3, 4.4, 1.47],\n",
        "        [4.7, 3.8, 1.74],\n",
        "    ]\n",
        ")\n",
        "\n",
        "gridx = np.arange(0.0, 5.5, 0.5)\n",
        "gridy = np.arange(0.0, 5.5, 0.5)"
      ],
      "execution_count": null,
      "outputs": []
    },
    {
      "cell_type": "markdown",
      "metadata": {
        "id": "x5kcXhfC7n6Z"
      },
      "source": [
        "Create the ordinary kriging object. Required inputs are the X-coordinates of\n",
        "the data points, the Y-coordinates of the data points, and the Z-values of the\n",
        "data points. If no variogram model is specified, defaults to a linear variogram\n",
        "model. If no variogram model parameters are specified, then the code automatically\n",
        "calculates the parameters by fitting the variogram model to the binned\n",
        "experimental semivariogram. The verbose kwarg controls code talk-back, and\n",
        "the enable_plotting kwarg controls the display of the semivariogram.\n",
        "\n"
      ]
    },
    {
      "cell_type": "code",
      "metadata": {
        "colab": {
          "base_uri": "https://localhost:8080/"
        },
        "id": "QWORfHKDN_Vi",
        "outputId": "408b2e6b-3e29-4a4f-ef0a-c97de9144a3f"
      },
      "source": [
        "data[:, 0]"
      ],
      "execution_count": null,
      "outputs": [
        {
          "output_type": "execute_result",
          "data": {
            "text/plain": [
              "array([0.3, 1.9, 1.1, 3.3, 4.7])"
            ]
          },
          "metadata": {},
          "execution_count": 4
        }
      ]
    },
    {
      "cell_type": "code",
      "metadata": {
        "id": "R5886l8U7n6b"
      },
      "source": [
        "OK = OrdinaryKriging(\n",
        "    data[:, 0],\n",
        "    data[:, 1],\n",
        "    data[:, 2],\n",
        "    variogram_model=\"linear\",\n",
        "    verbose=False,\n",
        "    enable_plotting=False,\n",
        ")"
      ],
      "execution_count": null,
      "outputs": []
    },
    {
      "cell_type": "markdown",
      "metadata": {
        "id": "oWheHJq77n6b"
      },
      "source": [
        "Creates the kriged grid and the variance grid. Allows for kriging on a rectangular\n",
        "grid of points, on a masked rectangular grid of points, or with arbitrary points.\n",
        "(See OrdinaryKriging.__doc__ for more information.)\n",
        "\n"
      ]
    },
    {
      "cell_type": "code",
      "metadata": {
        "id": "-zJscQxa7n6d"
      },
      "source": [
        "z, ss = OK.execute(\"grid\", gridx, gridy)"
      ],
      "execution_count": null,
      "outputs": []
    },
    {
      "cell_type": "code",
      "metadata": {
        "colab": {
          "base_uri": "https://localhost:8080/"
        },
        "id": "go7xvw2gL57b",
        "outputId": "66cf0fd8-e047-4951-9656-f4af62a614ac"
      },
      "source": [
        "gridx"
      ],
      "execution_count": null,
      "outputs": [
        {
          "output_type": "execute_result",
          "data": {
            "text/plain": [
              "array([0. , 0.5, 1. , 1.5, 2. , 2.5, 3. , 3.5, 4. , 4.5, 5. ])"
            ]
          },
          "metadata": {},
          "execution_count": 7
        }
      ]
    },
    {
      "cell_type": "code",
      "metadata": {
        "id": "lZ4_HWnbMDnw",
        "colab": {
          "base_uri": "https://localhost:8080/"
        },
        "outputId": "0130c329-6bb6-480e-f2fd-fa52ad97d49e"
      },
      "source": [
        "z"
      ],
      "execution_count": null,
      "outputs": [
        {
          "output_type": "execute_result",
          "data": {
            "text/plain": [
              "masked_array(\n",
              "  data=[[0.44243502318239175, 0.46009300267963094, 0.48677783416289994,\n",
              "         0.5242839728091135, 0.5826773564279741, 0.6675723108302893,\n",
              "         0.7620512011204206, 0.8552925548628063, 0.9430497678050291,\n",
              "         1.023187939028162, 1.0946125446173114],\n",
              "        [0.44546200237916256, 0.4627755254249186, 0.49123000817954043,\n",
              "         0.525840071764101, 0.5795484583522866, 0.689439673895844,\n",
              "         0.7980312976452971, 0.9006988715149922, 0.9951008365617124,\n",
              "         1.079539338162373, 1.153091685732461],\n",
              "        [0.4567678595817516, 0.47570977301135936, 0.5152091408727116,\n",
              "         0.5633696804103182, 0.6341512271967441, 0.7400134608541518,\n",
              "         0.8528837354904467, 0.9609834004362499, 1.059944137430366,\n",
              "         1.1471586339367559, 1.2213171632630055],\n",
              "        [0.4874447605759909, 0.5115588127198102, 0.5588711354322347,\n",
              "         0.6224411173760791, 0.7066806640237211, 0.8111710290752912,\n",
              "         0.9244416338918073, 1.0355366062469609, 1.1376089173894663,\n",
              "         1.2263216873410197, 1.2994538691743895],\n",
              "        [0.5328247260596178, 0.5619072947779499, 0.6120255530693883,\n",
              "         0.6851331952402853, 0.7796277309202967, 0.8896473382335519,\n",
              "         1.0064988476651553, 1.1213765879216167, 1.226765850074589,\n",
              "         1.3165564446887874, 1.3870839936994648],\n",
              "        [0.5825402323085441, 0.6130205995070396, 0.6641437865218256,\n",
              "         0.7458934238115303, 0.8520932835510389, 0.9708245308508774,\n",
              "         1.0940218777674016, 1.214570450496102, 1.3249976819554936,\n",
              "         1.4168140556854592, 1.4831571364477618],\n",
              "        [0.6372155886678733, 0.667038764072603, 0.7104826233580995,\n",
              "         0.8056282815555061, 0.9257884189051724, 1.053045459949003,\n",
              "         1.1827977851750866, 1.3098142610354206, 1.4277976341317729,\n",
              "         1.5253401485488023, 1.5855379007853447],\n",
              "        [0.6993921423665296, 0.7350644408997732, 0.786316145566928,\n",
              "         0.8823270526317621, 1.0040667595105934, 1.1343063314258506,\n",
              "         1.267792869881053, 1.3986662453337015, 1.5237202276800947,\n",
              "         1.6372952384362436, 1.687227329323245],\n",
              "        [0.7669577851294969, 0.8130529571875746, 0.8775661504344848,\n",
              "         0.968729432671257, 1.0823394701924138, 1.2092731665423004,\n",
              "         1.342930505551307, 1.470751988674189, 1.5879789219244538,\n",
              "         1.6999942154051537, 1.7422403790257497],\n",
              "        [0.8340293555885995, 0.8874109657965287, 0.9567329441359544,\n",
              "         1.0450010490535329, 1.150752290458351, 1.269587347366292,\n",
              "         1.397049011826927, 1.5146862301252264, 1.6101309903941097,\n",
              "         1.6910094799669813, 1.7348625460764162],\n",
              "        [0.8964010732632864, 0.9534217738635852, 1.0234825500139604,\n",
              "         1.1076917309936452, 1.2048478314024098, 1.311432532144005,\n",
              "         1.4211909463027996, 1.5225848424791877, 1.6078252650185723,\n",
              "         1.6748492847624954, 1.7179507614001979]],\n",
              "  mask=[[False, False, False, False, False, False, False, False, False,\n",
              "         False, False],\n",
              "        [False, False, False, False, False, False, False, False, False,\n",
              "         False, False],\n",
              "        [False, False, False, False, False, False, False, False, False,\n",
              "         False, False],\n",
              "        [False, False, False, False, False, False, False, False, False,\n",
              "         False, False],\n",
              "        [False, False, False, False, False, False, False, False, False,\n",
              "         False, False],\n",
              "        [False, False, False, False, False, False, False, False, False,\n",
              "         False, False],\n",
              "        [False, False, False, False, False, False, False, False, False,\n",
              "         False, False],\n",
              "        [False, False, False, False, False, False, False, False, False,\n",
              "         False, False],\n",
              "        [False, False, False, False, False, False, False, False, False,\n",
              "         False, False],\n",
              "        [False, False, False, False, False, False, False, False, False,\n",
              "         False, False],\n",
              "        [False, False, False, False, False, False, False, False, False,\n",
              "         False, False]],\n",
              "  fill_value=1e+20)"
            ]
          },
          "metadata": {},
          "execution_count": 8
        }
      ]
    },
    {
      "cell_type": "markdown",
      "metadata": {
        "id": "oIu7CMVF7n6f"
      },
      "source": [
        "Writes the kriged grid to an ASCII grid file and plot it.\n",
        "\n"
      ]
    },
    {
      "cell_type": "code",
      "metadata": {
        "colab": {
          "base_uri": "https://localhost:8080/",
          "height": 265
        },
        "id": "t8MJU2o77n6h",
        "outputId": "40dc5dcd-bef2-4742-d5ca-b42a3ea4000c"
      },
      "source": [
        "kt.write_asc_grid(gridx, gridy, z, filename=\"output.asc\")\n",
        "plt.imshow(z)\n",
        "plt.show()"
      ],
      "execution_count": null,
      "outputs": [
        {
          "output_type": "display_data",
          "data": {
            "image/png": "[encoded data removed]",
            "text/plain": [
              "<Figure size 432x288 with 1 Axes>"
            ]
          },
          "metadata": {
            "needs_background": "light"
          }
        }
      ]
    },
    {
      "cell_type": "code",
      "metadata": {
        "id": "hs0JR27i-4bj"
      },
      "source": [
        "import numpy as np\n",
        "import pandas as pd\n",
        "import glob\n",
        "from pykrige.ok import OrdinaryKriging\n",
        "from pykrige.kriging_tools import write_asc_grid\n",
        "import pykrige.kriging_tools as kt\n",
        "import matplotlib.pyplot as plt\n",
        "#from mpl_toolkits.basemap import Basemap\n",
        "from matplotlib.colors import LinearSegmentedColormap\n",
        "from matplotlib.patches import Path, PathPatch"
      ],
      "execution_count": null,
      "outputs": []
    },
    {
      "cell_type": "code",
      "metadata": {
        "id": "3HYOnjPr-4dp"
      },
      "source": [
        "df=pd.read_csv('Turf.csv')"
      ],
      "execution_count": null,
      "outputs": []
    },
    {
      "cell_type": "code",
      "metadata": {
        "id": "RDlGvPbT-4gM"
      },
      "source": [
        "lats=np.array(df['Latitude'])\n",
        "lons=np.array(df['Longtitude'])\n",
        "data_moist=np.array(df['Moisture'])"
      ],
      "execution_count": null,
      "outputs": []
    },
    {
      "cell_type": "code",
      "metadata": {
        "id": "lvAE5rCR-4jN"
      },
      "source": [
        "grid_space = 0.001\n",
        "grid_lon = np.arange(np.amin(lons), np.amax(lons), grid_space) #grid_space is the desired delta/step of the output array\n",
        "grid_lat = np.arange(np.amin(lats), np.amax(lats), grid_space)"
      ],
      "execution_count": null,
      "outputs": []
    },
    {
      "cell_type": "code",
      "metadata": {
        "id": "3B5P3RUGAKVm"
      },
      "source": [
        "data_moist = [s.replace(\"%\", \"\") for s in data_moist]"
      ],
      "execution_count": null,
      "outputs": []
    },
    {
      "cell_type": "code",
      "metadata": {
        "id": "4qbTbRy1AKYh"
      },
      "source": [
        "for i in range(0,len(data_moist)):\n",
        "  data_moist[i]=int(data_moist[i])/100"
      ],
      "execution_count": null,
      "outputs": []
    },
    {
      "cell_type": "code",
      "metadata": {
        "id": "ij50us05AKa1"
      },
      "source": [
        "data_moist=np.array(data_moist)"
      ],
      "execution_count": null,
      "outputs": []
    },
    {
      "cell_type": "code",
      "metadata": {
        "colab": {
          "base_uri": "https://localhost:8080/"
        },
        "id": "9mTQUdE0AKeS",
        "outputId": "2b5730a3-9e6f-414a-e2ce-6b3d60ec2c48"
      },
      "source": [
        "data_moist"
      ],
      "execution_count": null,
      "outputs": [
        {
          "output_type": "execute_result",
          "data": {
            "text/plain": [
              "array([0.18, 0.15, 0.15, 0.15, 0.24, 0.16, 0.15, 0.16, 0.21, 0.13, 0.21,\n",
              "       0.22, 0.12, 0.27, 0.32, 0.15, 0.15, 0.18, 0.21, 0.19, 0.16, 0.15,\n",
              "       0.13, 0.19, 0.15, 0.17, 0.19, 0.31, 0.19, 0.2 , 0.17, 0.16, 0.13,\n",
              "       0.16, 0.11, 0.15])"
            ]
          },
          "metadata": {},
          "execution_count": 9
        }
      ]
    },
    {
      "cell_type": "code",
      "metadata": {
        "colab": {
          "base_uri": "https://localhost:8080/"
        },
        "id": "0g2xz_hPQLor",
        "outputId": "03201725-7b19-4a5a-b4d8-844cec1ff181"
      },
      "source": [
        "grid_lon.shape"
      ],
      "execution_count": null,
      "outputs": [
        {
          "output_type": "execute_result",
          "data": {
            "text/plain": [
              "(14,)"
            ]
          },
          "metadata": {},
          "execution_count": 18
        }
      ]
    },
    {
      "cell_type": "code",
      "metadata": {
        "id": "YHHm7cnFAKTB",
        "colab": {
          "base_uri": "https://localhost:8080/",
          "height": 525
        },
        "outputId": "e7a80c43-515f-41c7-c170-163cae6acb10"
      },
      "source": [
        "OK = OrdinaryKriging(lons, lats, data_moist, variogram_model='gaussian', verbose=True, enable_plotting=True,nlags=20)\n",
        "z1, ss1 = OK.execute('grid', grid_lon, grid_lat)"
      ],
      "execution_count": null,
      "outputs": [
        {
          "output_type": "stream",
          "name": "stdout",
          "text": [
            "Plotting Enabled\n",
            "\n",
            "Adjusting data for anisotropy...\n",
            "Initializing variogram model...\n",
            "Coordinates type: 'euclidean' \n",
            "\n",
            "Using 'gaussian' Variogram Model\n",
            "Partial Sill: 0.0014591157650913386\n",
            "Full Sill: 0.0020391126879061414\n",
            "Range: 9.963611018671853e-05\n",
            "Nugget: 0.0005799969228148027 \n",
            "\n"
          ]
        },
        {
          "output_type": "display_data",
          "data": {
            "image/png": "[encoded data removed]",
            "text/plain": [
              "<Figure size 432x288 with 1 Axes>"
            ]
          },
          "metadata": {
            "needs_background": "light"
          }
        },
        {
          "output_type": "stream",
          "name": "stdout",
          "text": [
            "Calculating statistics on variogram model fit...\n",
            "Executing Ordinary Kriging...\n",
            "\n"
          ]
        }
      ]
    },
    {
      "cell_type": "code",
      "metadata": {
        "id": "G4Wfw6eJSWjn"
      },
      "source": [
        "ini_array1 = np.array(z1)\n",
        "result = ini_array1.flatten()"
      ],
      "execution_count": null,
      "outputs": []
    },
    {
      "cell_type": "code",
      "metadata": {
        "colab": {
          "base_uri": "https://localhost:8080/"
        },
        "id": "fUF4r5yD3bwX",
        "outputId": "757452d5-6bee-4f1d-ea0d-3e201f155d0f"
      },
      "source": [
        "result"
      ],
      "execution_count": null,
      "outputs": [
        {
          "output_type": "execute_result",
          "data": {
            "text/plain": [
              "array([0.17833438, 0.17833438, 0.17833438, 0.17833438, 0.17833438,\n",
              "       0.17833438, 0.17833438, 0.17833438, 0.17833438, 0.17833438,\n",
              "       0.1656135 , 0.17833438, 0.17833438, 0.17833438, 0.17833438,\n",
              "       0.17833438, 0.17833438, 0.17833438, 0.17833438, 0.17833438,\n",
              "       0.17833438, 0.17833438, 0.17833438, 0.17833438, 0.17833405,\n",
              "       0.17833438, 0.17833438, 0.17833438, 0.17833438, 0.17833438,\n",
              "       0.17833438, 0.17833438, 0.17833438, 0.17833438, 0.17833438,\n",
              "       0.1930306 , 0.17833438, 0.17833438, 0.17833438, 0.17833438,\n",
              "       0.17833438, 0.17833438, 0.17833438, 0.17833438, 0.17833438,\n",
              "       0.17833438, 0.17833438, 0.17833438, 0.17833438, 0.17833438,\n",
              "       0.17833438, 0.17833438, 0.17833438, 0.17833438, 0.17833438,\n",
              "       0.17833438, 0.17833438, 0.17833438, 0.17833438, 0.17833438,\n",
              "       0.17833438, 0.17833438, 0.17833438, 0.17833438, 0.17833438,\n",
              "       0.17833438, 0.17833438, 0.17833438, 0.17833438, 0.17833438,\n",
              "       0.17833438, 0.17833438, 0.17833438, 0.17833438, 0.17833438,\n",
              "       0.17833438, 0.17833438, 0.17833438, 0.17833438, 0.17833438,\n",
              "       0.17833438, 0.17833438, 0.17833438, 0.17833438, 0.17833438,\n",
              "       0.17833438, 0.17833438, 0.17833438, 0.17833438, 0.17833438,\n",
              "       0.17833438, 0.17833438, 0.17833438, 0.17833438, 0.17833438,\n",
              "       0.17833438, 0.17833438, 0.17833438, 0.17833438, 0.17833438,\n",
              "       0.17833438, 0.17833438, 0.17833438, 0.17833438, 0.17833438,\n",
              "       0.17833438, 0.17833438, 0.17833438, 0.17833438, 0.17833438,\n",
              "       0.17833438, 0.17833438, 0.17833438, 0.17833438, 0.17833438,\n",
              "       0.17833438, 0.17833438, 0.17833438, 0.17833438, 0.17833438,\n",
              "       0.17833438, 0.17833438, 0.17833438, 0.17833438, 0.17833438,\n",
              "       0.17833438])"
            ]
          },
          "metadata": {},
          "execution_count": 13
        }
      ]
    },
    {
      "cell_type": "code",
      "metadata": {
        "colab": {
          "base_uri": "https://localhost:8080/"
        },
        "id": "i9eQ5XilSvkn",
        "outputId": "3777624d-c807-423b-80b7-52b7ce12e33d"
      },
      "source": [
        "lats.max()-lats.min()"
      ],
      "execution_count": null,
      "outputs": [
        {
          "output_type": "execute_result",
          "data": {
            "text/plain": [
              "0.008384000000006608"
            ]
          },
          "metadata": {},
          "execution_count": 21
        }
      ]
    },
    {
      "cell_type": "code",
      "metadata": {
        "colab": {
          "base_uri": "https://localhost:8080/"
        },
        "id": "Q4hk6heATDLd",
        "outputId": "a661e28d-5205-4aa1-d6d5-0dbd8ce8effd"
      },
      "source": [
        "lons.max()-lons.min()"
      ],
      "execution_count": null,
      "outputs": [
        {
          "output_type": "execute_result",
          "data": {
            "text/plain": [
              "0.013428000000004658"
            ]
          },
          "metadata": {},
          "execution_count": 22
        }
      ]
    },
    {
      "cell_type": "code",
      "metadata": {
        "colab": {
          "base_uri": "https://localhost:8080/"
        },
        "id": "v_aBoXn-TmHA",
        "outputId": "e2550eb9-4a1a-4d69-9533-f32b01ee9721"
      },
      "source": [
        "grid_lat.min(),grid_lat.max()"
      ],
      "execution_count": null,
      "outputs": [
        {
          "output_type": "execute_result",
          "data": {
            "text/plain": [
              "(-41.140182, -41.13218200000002)"
            ]
          },
          "metadata": {},
          "execution_count": 23
        }
      ]
    },
    {
      "cell_type": "code",
      "metadata": {
        "colab": {
          "base_uri": "https://localhost:8080/"
        },
        "id": "H6xp_3HtXImF",
        "outputId": "36afbdbd-434f-41f3-94c0-e2eb3c9150dc"
      },
      "source": [
        "grid_lat.shape"
      ],
      "execution_count": null,
      "outputs": [
        {
          "output_type": "execute_result",
          "data": {
            "text/plain": [
              "(9,)"
            ]
          },
          "metadata": {},
          "execution_count": 24
        }
      ]
    },
    {
      "cell_type": "code",
      "metadata": {
        "id": "e9xfqYUVTCJH",
        "colab": {
          "base_uri": "https://localhost:8080/"
        },
        "outputId": "d7c72932-1b9b-479e-98b2-d16c2a4d2ef1"
      },
      "source": [
        "!pip install folium==0.12.1"
      ],
      "execution_count": null,
      "outputs": [
        {
          "output_type": "stream",
          "name": "stdout",
          "text": [
            "Requirement already satisfied: folium==0.12.1 in /usr/local/lib/python3.7/dist-packages (0.12.1)\n",
            "Requirement already satisfied: numpy in /usr/local/lib/python3.7/dist-packages (from folium==0.12.1) (1.19.5)\n",
            "Requirement already satisfied: requests in /usr/local/lib/python3.7/dist-packages (from folium==0.12.1) (2.23.0)\n",
            "Requirement already satisfied: jinja2>=2.9 in /usr/local/lib/python3.7/dist-packages (from folium==0.12.1) (2.11.3)\n",
            "Requirement already satisfied: branca>=0.3.0 in /usr/local/lib/python3.7/dist-packages (from folium==0.12.1) (0.4.2)\n",
            "Requirement already satisfied: MarkupSafe>=0.23 in /usr/local/lib/python3.7/dist-packages (from jinja2>=2.9->folium==0.12.1) (2.0.1)\n",
            "Requirement already satisfied: certifi>=2017.4.17 in /usr/local/lib/python3.7/dist-packages (from requests->folium==0.12.1) (2021.5.30)\n",
            "Requirement already satisfied: urllib3!=1.25.0,!=1.25.1,<1.26,>=1.21.1 in /usr/local/lib/python3.7/dist-packages (from requests->folium==0.12.1) (1.24.3)\n",
            "Requirement already satisfied: chardet<4,>=3.0.2 in /usr/local/lib/python3.7/dist-packages (from requests->folium==0.12.1) (3.0.4)\n",
            "Requirement already satisfied: idna<3,>=2.5 in /usr/local/lib/python3.7/dist-packages (from requests->folium==0.12.1) (2.10)\n"
          ]
        }
      ]
    },
    {
      "cell_type": "code",
      "metadata": {
        "id": "DuCcOadVa-sc"
      },
      "source": [
        "175.010864 175.024292\n",
        "-41.131798 -41.140182"
      ],
      "execution_count": null,
      "outputs": []
    },
    {
      "cell_type": "code",
      "metadata": {
        "id": "rRpyPfhpSWaD",
        "colab": {
          "base_uri": "https://localhost:8080/"
        },
        "outputId": "a4c08dc1-1f55-4d9b-bc28-140b3435fc49"
      },
      "source": [
        "import folium\n",
        "from folium.plugins import HeatMap\n",
        "# import the geopy module\n",
        "import geopy\n",
        "import statistics\n",
        "\n",
        "meanLong = statistics.mean(grid_lon)\n",
        "meanLat = statistics.mean(grid_lat)\n",
        "# create base map object using Map()\n",
        "mapObj = folium.Map(location=[meanLat, meanLong], zoom_start = 14.5)\n",
        "# create heatmap layer\n",
        "heatmap = HeatMap( list(zip(grid_lat, grid_lon, result)),\n",
        "                   min_opacity=0.2,\n",
        "                   max_val=result.min(),\n",
        "                   radius=50, blur=50\n",
        "                   )\n",
        "heatmap.add_to(mapObj)\n",
        "folium.Marker([meanLat, meanLong], popup=\"<i>Wellington Golf Club</i>\").add_to(mapObj)\n",
        "for lat, long, moist in zip(grid_lat, grid_lon,df['Moisture']):\n",
        "    label = '{}'.format(moist)\n",
        "    label = folium.Popup(label, parse_html=True)\n",
        "    \n",
        "    if moist in range(10,16):\n",
        "      marker=folium.CircleMarker([lat, long],radius=5,\n",
        "      popup=label,\n",
        "      color='blue',\n",
        "      fill=True,\n",
        "      fill_color='#3186cc',\n",
        "      fill_opacity=0.7,\n",
        "      parse_html=False)\n",
        "      marker.add_to(mapObj)\n",
        "\n",
        "    elif moist in range(16,21):\n",
        "      marker=folium.CircleMarker([lat, long],\n",
        "      radius=5,\n",
        "      popup=label,\n",
        "      color='yellow',\n",
        "      fill=True,\n",
        "      fill_color='#3186cc',\n",
        "      fill_opacity=0.7,\n",
        "      parse_html=False)\n",
        "      marker.add_to(mapObj)\n",
        "\n",
        "    elif moist in range(21,26):\n",
        "      marker=folium.CircleMarker([lat, long],\n",
        "      radius=5,\n",
        "      popup=label,\n",
        "      color='red',\n",
        "      fill=True,\n",
        "      fill_color='#3186cc',\n",
        "      fill_opacity=0.7,\n",
        "      parse_html=False)\n",
        "      marker.add_to(mapObj)\n",
        "\n",
        "    elif moist in range(26,31):\n",
        "      marker=folium.CircleMarker([lat, long],\n",
        "      radius=5,\n",
        "      popup=label,\n",
        "      color='green',\n",
        "      fill=True,\n",
        "      fill_color='#3186cc',\n",
        "      fill_opacity=0.7,\n",
        "      parse_html=False)\n",
        "      marker.add_to(mapObj)\n",
        "\n",
        "    else:\n",
        "      marker=folium.CircleMarker([lat, long],\n",
        "      radius=5,\n",
        "      popup=label,\n",
        "      color='violet',\n",
        "      fill=True,\n",
        "      fill_color='#3186cc',\n",
        "      fill_opacity=0.7,\n",
        "      parse_html=False)\n",
        "      marker.add_to(mapObj)"
      ],
      "execution_count": null,
      "outputs": [
        {
          "output_type": "stream",
          "name": "stderr",
          "text": [
            "/usr/local/lib/python3.7/dist-packages/ipykernel_launcher.py:15: UserWarning: The `max_val` parameter is no longer necessary. The largest intensity is calculated automatically.\n",
            "  from ipykernel import kernelapp as app\n"
          ]
        }
      ]
    },
    {
      "cell_type": "code",
      "metadata": {
        "colab": {
          "base_uri": "https://localhost:8080/",
          "height": 531
        },
        "id": "uva_N6ToTbAp",
        "outputId": "48001d4c-541d-40d0-a7f7-bb5f637088a6"
      },
      "source": [
        "mapObj"
      ],
      "execution_count": null,
      "outputs": [
        {
          "output_type": "execute_result",
          "data": {
            "text/html": [
              "<div style=\"width:100%;\"><div style=\"position:relative;width:100%;height:0;padding-bottom:60%;\"><span style=\"color:#565656\">Make this Notebook Trusted to load map: File -> Trust Notebook</span><iframe src=\"about:blank\" style=\"position:absolute;width:100%;height:100%;left:0;top:0;border:none !important;\" data-html=%3C%21DOCTYPE%20html%3E%0A%3Chead%3E%20%20%20%20%0A%20%20%20%20%3Cmeta%20http-equiv%3D%22content-type%22%20content%3D%22text/html%3B%20charset%3DUTF-8%22%20/%3E%0A%20%20%20%20%0A%20%20%20%20%20%20%20%20%3Cscript%3E%0A%20%20%20%20%20%20%20%20%20%20%20%20L_NO_TOUCH%20%3D%20false%3B%0A%20%20%20%20%20%20%20%20%20%20%20%20L_DISABLE_3D%20%3D%20false%3B%0A%20%20%20%20%20%20%20%20%3C/script%3E%0A%20%20%20%20%0A%20%20%20%20%3Cstyle%3Ehtml%2C%20body%20%7Bwidth%3A%20100%25%3Bheight%3A%20100%25%3Bmargin%3A%200%3Bpadding%3A%200%3B%7D%3C/style%3E%0A%20%20%20%20%3Cstyle%3E%23map%20%7Bposition%3Aabsolute%3Btop%3A0%3Bbottom%3A0%3Bright%3A0%3Bleft%3A0%3B%7D%3C/style%3E%0A%20%20%20%20%3Cscript%20src%3D%22https%3A//cdn.jsdelivr.net/npm/leaflet%401.6.0/dist/leaflet.js%22%3E%3C/script%3E%0A%20%20%20%20%3Cscript%20src%3D%22https%3A//code.jquery.com/jquery-1.12.4.min.js%22%3E%3C/script%3E%0A%20%20%20%20%3Cscript%20src%3D%22https%3A//maxcdn.bootstrapcdn.com/bootstrap/3.2.0/js/bootstrap.min.js%22%3E%3C/script%3E%0A%20%20%20%20%3Cscript%20src%3D%22https%3A//cdnjs.cloudflare.com/ajax/libs/Leaflet.awesome-markers/2.0.2/leaflet.awesome-markers.js%22%3E%3C/script%3E%0A%20%20%20%20%3Clink%20rel%3D%22stylesheet%22%20href%3D%22https%3A//cdn.jsdelivr.net/npm/leaflet%401.6.0/dist/leaflet.css%22/%3E%0A%20%20%20%20%3Clink%20rel%3D%22stylesheet%22%20href%3D%22https%3A//maxcdn.bootstrapcdn.com/bootstrap/3.2.0/css/bootstrap.min.css%22/%3E%0A%20%20%20%20%3Clink%20rel%3D%22stylesheet%22%20href%3D%22https%3A//maxcdn.bootstrapcdn.com/bootstrap/3.2.0/css/bootstrap-theme.min.css%22/%3E%0A%20%20%20%20%3Clink%20rel%3D%22stylesheet%22%20href%3D%22https%3A//maxcdn.bootstrapcdn.com/font-awesome/4.6.3/css/font-awesome.min.css%22/%3E%0A%20%20%20%20%3Clink%20rel%3D%22stylesheet%22%20href%3D%22https%3A//cdnjs.cloudflare.com/ajax/libs/Leaflet.awesome-markers/2.0.2/leaflet.awesome-markers.css%22/%3E%0A%20%20%20%20%3Clink%20rel%3D%22stylesheet%22%20href%3D%22https%3A//cdn.jsdelivr.net/gh/python-visualization/folium/folium/templates/leaflet.awesome.rotate.min.css%22/%3E%0A%20%20%20%20%0A%20%20%20%20%20%20%20%20%20%20%20%20%3Cmeta%20name%3D%22viewport%22%20content%3D%22width%3Ddevice-width%2C%0A%20%20%20%20%20%20%20%20%20%20%20%20%20%20%20%20initial-scale%3D1.0%2C%20maximum-scale%3D1.0%2C%20user-scalable%3Dno%22%20/%3E%0A%20%20%20%20%20%20%20%20%20%20%20%20%3Cstyle%3E%0A%20%20%20%20%20%20%20%20%20%20%20%20%20%20%20%20%23map_81c9d3e4985c443bb598227edbb1f7e9%20%7B%0A%20%20%20%20%20%20%20%20%20%20%20%20%20%20%20%20%20%20%20%20position%3A%20relative%3B%0A%20%20%20%20%20%20%20%20%20%20%20%20%20%20%20%20%20%20%20%20width%3A%20100.0%25%3B%0A%20%20%20%20%20%20%20%20%20%20%20%20%20%20%20%20%20%20%20%20height%3A%20100.0%25%3B%0A%20%20%20%20%20%20%20%20%20%20%20%20%20%20%20%20%20%20%20%20left%3A%200.0%25%3B%0A%20%20%20%20%20%20%20%20%20%20%20%20%20%20%20%20%20%20%20%20top%3A%200.0%25%3B%0A%20%20%20%20%20%20%20%20%20%20%20%20%20%20%20%20%7D%0A%20%20%20%20%20%20%20%20%20%20%20%20%3C/style%3E%0A%20%20%20%20%20%20%20%20%0A%20%20%20%20%3Cscript%20src%3D%22https%3A//cdn.jsdelivr.net/gh/python-visualization/folium%40master/folium/templates/leaflet_heat.min.js%22%3E%3C/script%3E%0A%3C/head%3E%0A%3Cbody%3E%20%20%20%20%0A%20%20%20%20%0A%20%20%20%20%20%20%20%20%20%20%20%20%3Cdiv%20class%3D%22folium-map%22%20id%3D%22map_81c9d3e4985c443bb598227edbb1f7e9%22%20%3E%3C/div%3E%0A%20%20%20%20%20%20%20%20%0A%3C/body%3E%0A%3Cscript%3E%20%20%20%20%0A%20%20%20%20%0A%20%20%20%20%20%20%20%20%20%20%20%20var%20map_81c9d3e4985c443bb598227edbb1f7e9%20%3D%20L.map%28%0A%20%20%20%20%20%20%20%20%20%20%20%20%20%20%20%20%22map_81c9d3e4985c443bb598227edbb1f7e9%22%2C%0A%20%20%20%20%20%20%20%20%20%20%20%20%20%20%20%20%7B%0A%20%20%20%20%20%20%20%20%20%20%20%20%20%20%20%20%20%20%20%20center%3A%20%5B-41.13618200000001%2C%20175.01736400000004%5D%2C%0A%20%20%20%20%20%20%20%20%20%20%20%20%20%20%20%20%20%20%20%20crs%3A%20L.CRS.EPSG3857%2C%0A%20%20%20%20%20%20%20%20%20%20%20%20%20%20%20%20%20%20%20%20zoom%3A%2014.5%2C%0A%20%20%20%20%20%20%20%20%20%20%20%20%20%20%20%20%20%20%20%20zoomControl%3A%20true%2C%0A%20%20%20%20%20%20%20%20%20%20%20%20%20%20%20%20%20%20%20%20preferCanvas%3A%20false%2C%0A%20%20%20%20%20%20%20%20%20%20%20%20%20%20%20%20%7D%0A%20%20%20%20%20%20%20%20%20%20%20%20%29%3B%0A%0A%20%20%20%20%20%20%20%20%20%20%20%20%0A%0A%20%20%20%20%20%20%20%20%0A%20%20%20%20%0A%20%20%20%20%20%20%20%20%20%20%20%20var%20tile_layer_94df6109881a4754b1702a4273902ebc%20%3D%20L.tileLayer%28%0A%20%20%20%20%20%20%20%20%20%20%20%20%20%20%20%20%22https%3A//%7Bs%7D.tile.openstreetmap.org/%7Bz%7D/%7Bx%7D/%7By%7D.png%22%2C%0A%20%20%20%20%20%20%20%20%20%20%20%20%20%20%20%20%7B%22attribution%22%3A%20%22Data%20by%20%5Cu0026copy%3B%20%5Cu003ca%20href%3D%5C%22http%3A//openstreetmap.org%5C%22%5Cu003eOpenStreetMap%5Cu003c/a%5Cu003e%2C%20under%20%5Cu003ca%20href%3D%5C%22http%3A//www.openstreetmap.org/copyright%5C%22%5Cu003eODbL%5Cu003c/a%5Cu003e.%22%2C%20%22detectRetina%22%3A%20false%2C%20%22maxNativeZoom%22%3A%2018%2C%20%22maxZoom%22%3A%2018%2C%20%22minZoom%22%3A%200%2C%20%22noWrap%22%3A%20false%2C%20%22opacity%22%3A%201%2C%20%22subdomains%22%3A%20%22abc%22%2C%20%22tms%22%3A%20false%7D%0A%20%20%20%20%20%20%20%20%20%20%20%20%29.addTo%28map_81c9d3e4985c443bb598227edbb1f7e9%29%3B%0A%20%20%20%20%20%20%20%20%0A%20%20%20%20%0A%20%20%20%20%20%20%20%20%20%20%20%20var%20heat_map_4ccda53318484ffa9767cac4e34d6186%20%3D%20L.heatLayer%28%0A%20%20%20%20%20%20%20%20%20%20%20%20%20%20%20%20%5B%5B-41.140182%2C%20175.010864%2C%200.1783343799655898%5D%2C%20%5B-41.139182000000005%2C%20175.011864%2C%200.1783343799655898%5D%2C%20%5B-41.13818200000001%2C%20175.012864%2C%200.17833437996564797%5D%2C%20%5B-41.13718200000001%2C%20175.013864%2C%200.1783343799655898%5D%2C%20%5B-41.13618200000001%2C%20175.01486400000002%2C%200.1783343799655898%5D%2C%20%5B-41.135182000000015%2C%20175.01586400000002%2C%200.1783343799655898%5D%2C%20%5B-41.13418200000002%2C%20175.01686400000003%2C%200.1783343799655898%5D%2C%20%5B-41.13318200000002%2C%20175.01786400000003%2C%200.1783343799655898%5D%2C%20%5B-41.13218200000002%2C%20175.01886400000004%2C%200.1783343799655898%5D%5D%2C%0A%20%20%20%20%20%20%20%20%20%20%20%20%20%20%20%20%7B%22blur%22%3A%2050%2C%20%22maxZoom%22%3A%2018%2C%20%22minOpacity%22%3A%200.2%2C%20%22radius%22%3A%2050%7D%0A%20%20%20%20%20%20%20%20%20%20%20%20%29.addTo%28map_81c9d3e4985c443bb598227edbb1f7e9%29%3B%0A%20%20%20%20%20%20%20%20%0A%20%20%20%20%0A%20%20%20%20%20%20%20%20%20%20%20%20var%20marker_722c9dd7559948238abf83cecb3e59ad%20%3D%20L.marker%28%0A%20%20%20%20%20%20%20%20%20%20%20%20%20%20%20%20%5B-41.13618200000001%2C%20175.01736400000004%5D%2C%0A%20%20%20%20%20%20%20%20%20%20%20%20%20%20%20%20%7B%7D%0A%20%20%20%20%20%20%20%20%20%20%20%20%29.addTo%28map_81c9d3e4985c443bb598227edbb1f7e9%29%3B%0A%20%20%20%20%20%20%20%20%0A%20%20%20%20%0A%20%20%20%20%20%20%20%20var%20popup_fd9e78ab5ac642a7938d841f3b3d164f%20%3D%20L.popup%28%7B%22maxWidth%22%3A%20%22100%25%22%7D%29%3B%0A%0A%20%20%20%20%20%20%20%20%0A%20%20%20%20%20%20%20%20%20%20%20%20var%20html_3c80759835334a1ba664f862a5c8dd31%20%3D%20%24%28%60%3Cdiv%20id%3D%22html_3c80759835334a1ba664f862a5c8dd31%22%20style%3D%22width%3A%20100.0%25%3B%20height%3A%20100.0%25%3B%22%3E%3Ci%3EWellington%20Golf%20Club%3C/i%3E%3C/div%3E%60%29%5B0%5D%3B%0A%20%20%20%20%20%20%20%20%20%20%20%20popup_fd9e78ab5ac642a7938d841f3b3d164f.setContent%28html_3c80759835334a1ba664f862a5c8dd31%29%3B%0A%20%20%20%20%20%20%20%20%0A%0A%20%20%20%20%20%20%20%20marker_722c9dd7559948238abf83cecb3e59ad.bindPopup%28popup_fd9e78ab5ac642a7938d841f3b3d164f%29%0A%20%20%20%20%20%20%20%20%3B%0A%0A%20%20%20%20%20%20%20%20%0A%20%20%20%20%0A%20%20%20%20%0A%20%20%20%20%20%20%20%20%20%20%20%20var%20circle_marker_b16b200098a440bea45cde37edc25ad5%20%3D%20L.circleMarker%28%0A%20%20%20%20%20%20%20%20%20%20%20%20%20%20%20%20%5B-41.140182%2C%20175.010864%5D%2C%0A%20%20%20%20%20%20%20%20%20%20%20%20%20%20%20%20%7B%22bubblingMouseEvents%22%3A%20true%2C%20%22color%22%3A%20%22violet%22%2C%20%22dashArray%22%3A%20null%2C%20%22dashOffset%22%3A%20null%2C%20%22fill%22%3A%20true%2C%20%22fillColor%22%3A%20%22%233186cc%22%2C%20%22fillOpacity%22%3A%200.7%2C%20%22fillRule%22%3A%20%22evenodd%22%2C%20%22lineCap%22%3A%20%22round%22%2C%20%22lineJoin%22%3A%20%22round%22%2C%20%22opacity%22%3A%201.0%2C%20%22radius%22%3A%205%2C%20%22stroke%22%3A%20true%2C%20%22weight%22%3A%203%7D%0A%20%20%20%20%20%20%20%20%20%20%20%20%29.addTo%28map_81c9d3e4985c443bb598227edbb1f7e9%29%3B%0A%20%20%20%20%20%20%20%20%0A%20%20%20%20%0A%20%20%20%20%20%20%20%20var%20popup_30a3f1d41aa543149a00d865858e7819%20%3D%20L.popup%28%7B%22maxWidth%22%3A%20%22100%25%22%7D%29%3B%0A%0A%20%20%20%20%20%20%20%20%0A%20%20%20%20%20%20%20%20%20%20%20%20var%20html_ed25b276b10b462988795298d6f33848%20%3D%20%24%28%60%3Cdiv%20id%3D%22html_ed25b276b10b462988795298d6f33848%22%20style%3D%22width%3A%20100.0%25%3B%20height%3A%20100.0%25%3B%22%3E18%25%3C/div%3E%60%29%5B0%5D%3B%0A%20%20%20%20%20%20%20%20%20%20%20%20popup_30a3f1d41aa543149a00d865858e7819.setContent%28html_ed25b276b10b462988795298d6f33848%29%3B%0A%20%20%20%20%20%20%20%20%0A%0A%20%20%20%20%20%20%20%20circle_marker_b16b200098a440bea45cde37edc25ad5.bindPopup%28popup_30a3f1d41aa543149a00d865858e7819%29%0A%20%20%20%20%20%20%20%20%3B%0A%0A%20%20%20%20%20%20%20%20%0A%20%20%20%20%0A%20%20%20%20%0A%20%20%20%20%20%20%20%20%20%20%20%20var%20circle_marker_364ae1cd83214bad996c3201b4fce99a%20%3D%20L.circleMarker%28%0A%20%20%20%20%20%20%20%20%20%20%20%20%20%20%20%20%5B-41.139182000000005%2C%20175.011864%5D%2C%0A%20%20%20%20%20%20%20%20%20%20%20%20%20%20%20%20%7B%22bubblingMouseEvents%22%3A%20true%2C%20%22color%22%3A%20%22violet%22%2C%20%22dashArray%22%3A%20null%2C%20%22dashOffset%22%3A%20null%2C%20%22fill%22%3A%20true%2C%20%22fillColor%22%3A%20%22%233186cc%22%2C%20%22fillOpacity%22%3A%200.7%2C%20%22fillRule%22%3A%20%22evenodd%22%2C%20%22lineCap%22%3A%20%22round%22%2C%20%22lineJoin%22%3A%20%22round%22%2C%20%22opacity%22%3A%201.0%2C%20%22radius%22%3A%205%2C%20%22stroke%22%3A%20true%2C%20%22weight%22%3A%203%7D%0A%20%20%20%20%20%20%20%20%20%20%20%20%29.addTo%28map_81c9d3e4985c443bb598227edbb1f7e9%29%3B%0A%20%20%20%20%20%20%20%20%0A%20%20%20%20%0A%20%20%20%20%20%20%20%20var%20popup_0ac78e8986844e5f97056dd370bb1fbc%20%3D%20L.popup%28%7B%22maxWidth%22%3A%20%22100%25%22%7D%29%3B%0A%0A%20%20%20%20%20%20%20%20%0A%20%20%20%20%20%20%20%20%20%20%20%20var%20html_d67e3ccd982f44fa90d8279d9abe3ef8%20%3D%20%24%28%60%3Cdiv%20id%3D%22html_d67e3ccd982f44fa90d8279d9abe3ef8%22%20style%3D%22width%3A%20100.0%25%3B%20height%3A%20100.0%25%3B%22%3E15%25%3C/div%3E%60%29%5B0%5D%3B%0A%20%20%20%20%20%20%20%20%20%20%20%20popup_0ac78e8986844e5f97056dd370bb1fbc.setContent%28html_d67e3ccd982f44fa90d8279d9abe3ef8%29%3B%0A%20%20%20%20%20%20%20%20%0A%0A%20%20%20%20%20%20%20%20circle_marker_364ae1cd83214bad996c3201b4fce99a.bindPopup%28popup_0ac78e8986844e5f97056dd370bb1fbc%29%0A%20%20%20%20%20%20%20%20%3B%0A%0A%20%20%20%20%20%20%20%20%0A%20%20%20%20%0A%20%20%20%20%0A%20%20%20%20%20%20%20%20%20%20%20%20var%20circle_marker_b34dc4205fb6471b85fef9335fb57725%20%3D%20L.circleMarker%28%0A%20%20%20%20%20%20%20%20%20%20%20%20%20%20%20%20%5B-41.13818200000001%2C%20175.012864%5D%2C%0A%20%20%20%20%20%20%20%20%20%20%20%20%20%20%20%20%7B%22bubblingMouseEvents%22%3A%20true%2C%20%22color%22%3A%20%22violet%22%2C%20%22dashArray%22%3A%20null%2C%20%22dashOffset%22%3A%20null%2C%20%22fill%22%3A%20true%2C%20%22fillColor%22%3A%20%22%233186cc%22%2C%20%22fillOpacity%22%3A%200.7%2C%20%22fillRule%22%3A%20%22evenodd%22%2C%20%22lineCap%22%3A%20%22round%22%2C%20%22lineJoin%22%3A%20%22round%22%2C%20%22opacity%22%3A%201.0%2C%20%22radius%22%3A%205%2C%20%22stroke%22%3A%20true%2C%20%22weight%22%3A%203%7D%0A%20%20%20%20%20%20%20%20%20%20%20%20%29.addTo%28map_81c9d3e4985c443bb598227edbb1f7e9%29%3B%0A%20%20%20%20%20%20%20%20%0A%20%20%20%20%0A%20%20%20%20%20%20%20%20var%20popup_6aa43182ad14443f87b228e543b26677%20%3D%20L.popup%28%7B%22maxWidth%22%3A%20%22100%25%22%7D%29%3B%0A%0A%20%20%20%20%20%20%20%20%0A%20%20%20%20%20%20%20%20%20%20%20%20var%20html_7cc8cf1002544f68b05cf062ba27cc4a%20%3D%20%24%28%60%3Cdiv%20id%3D%22html_7cc8cf1002544f68b05cf062ba27cc4a%22%20style%3D%22width%3A%20100.0%25%3B%20height%3A%20100.0%25%3B%22%3E15%25%3C/div%3E%60%29%5B0%5D%3B%0A%20%20%20%20%20%20%20%20%20%20%20%20popup_6aa43182ad14443f87b228e543b26677.setContent%28html_7cc8cf1002544f68b05cf062ba27cc4a%29%3B%0A%20%20%20%20%20%20%20%20%0A%0A%20%20%20%20%20%20%20%20circle_marker_b34dc4205fb6471b85fef9335fb57725.bindPopup%28popup_6aa43182ad14443f87b228e543b26677%29%0A%20%20%20%20%20%20%20%20%3B%0A%0A%20%20%20%20%20%20%20%20%0A%20%20%20%20%0A%20%20%20%20%0A%20%20%20%20%20%20%20%20%20%20%20%20var%20circle_marker_e173a767f5004c57b3dc612f3461f3ca%20%3D%20L.circleMarker%28%0A%20%20%20%20%20%20%20%20%20%20%20%20%20%20%20%20%5B-41.13718200000001%2C%20175.013864%5D%2C%0A%20%20%20%20%20%20%20%20%20%20%20%20%20%20%20%20%7B%22bubblingMouseEvents%22%3A%20true%2C%20%22color%22%3A%20%22violet%22%2C%20%22dashArray%22%3A%20null%2C%20%22dashOffset%22%3A%20null%2C%20%22fill%22%3A%20true%2C%20%22fillColor%22%3A%20%22%233186cc%22%2C%20%22fillOpacity%22%3A%200.7%2C%20%22fillRule%22%3A%20%22evenodd%22%2C%20%22lineCap%22%3A%20%22round%22%2C%20%22lineJoin%22%3A%20%22round%22%2C%20%22opacity%22%3A%201.0%2C%20%22radius%22%3A%205%2C%20%22stroke%22%3A%20true%2C%20%22weight%22%3A%203%7D%0A%20%20%20%20%20%20%20%20%20%20%20%20%29.addTo%28map_81c9d3e4985c443bb598227edbb1f7e9%29%3B%0A%20%20%20%20%20%20%20%20%0A%20%20%20%20%0A%20%20%20%20%20%20%20%20var%20popup_d86e6c4866e344ff9fdb5e076f871278%20%3D%20L.popup%28%7B%22maxWidth%22%3A%20%22100%25%22%7D%29%3B%0A%0A%20%20%20%20%20%20%20%20%0A%20%20%20%20%20%20%20%20%20%20%20%20var%20html_8a165dbf4ed549729d93ea8c26b04478%20%3D%20%24%28%60%3Cdiv%20id%3D%22html_8a165dbf4ed549729d93ea8c26b04478%22%20style%3D%22width%3A%20100.0%25%3B%20height%3A%20100.0%25%3B%22%3E15%25%3C/div%3E%60%29%5B0%5D%3B%0A%20%20%20%20%20%20%20%20%20%20%20%20popup_d86e6c4866e344ff9fdb5e076f871278.setContent%28html_8a165dbf4ed549729d93ea8c26b04478%29%3B%0A%20%20%20%20%20%20%20%20%0A%0A%20%20%20%20%20%20%20%20circle_marker_e173a767f5004c57b3dc612f3461f3ca.bindPopup%28popup_d86e6c4866e344ff9fdb5e076f871278%29%0A%20%20%20%20%20%20%20%20%3B%0A%0A%20%20%20%20%20%20%20%20%0A%20%20%20%20%0A%20%20%20%20%0A%20%20%20%20%20%20%20%20%20%20%20%20var%20circle_marker_f38be4f2948a4eca8d8e96d69d1e5029%20%3D%20L.circleMarker%28%0A%20%20%20%20%20%20%20%20%20%20%20%20%20%20%20%20%5B-41.13618200000001%2C%20175.01486400000002%5D%2C%0A%20%20%20%20%20%20%20%20%20%20%20%20%20%20%20%20%7B%22bubblingMouseEvents%22%3A%20true%2C%20%22color%22%3A%20%22violet%22%2C%20%22dashArray%22%3A%20null%2C%20%22dashOffset%22%3A%20null%2C%20%22fill%22%3A%20true%2C%20%22fillColor%22%3A%20%22%233186cc%22%2C%20%22fillOpacity%22%3A%200.7%2C%20%22fillRule%22%3A%20%22evenodd%22%2C%20%22lineCap%22%3A%20%22round%22%2C%20%22lineJoin%22%3A%20%22round%22%2C%20%22opacity%22%3A%201.0%2C%20%22radius%22%3A%205%2C%20%22stroke%22%3A%20true%2C%20%22weight%22%3A%203%7D%0A%20%20%20%20%20%20%20%20%20%20%20%20%29.addTo%28map_81c9d3e4985c443bb598227edbb1f7e9%29%3B%0A%20%20%20%20%20%20%20%20%0A%20%20%20%20%0A%20%20%20%20%20%20%20%20var%20popup_69a5d0bbefe84b41b26e12922b91a879%20%3D%20L.popup%28%7B%22maxWidth%22%3A%20%22100%25%22%7D%29%3B%0A%0A%20%20%20%20%20%20%20%20%0A%20%20%20%20%20%20%20%20%20%20%20%20var%20html_40faae7f6ab4498699316d6ca211f2f7%20%3D%20%24%28%60%3Cdiv%20id%3D%22html_40faae7f6ab4498699316d6ca211f2f7%22%20style%3D%22width%3A%20100.0%25%3B%20height%3A%20100.0%25%3B%22%3E24%25%3C/div%3E%60%29%5B0%5D%3B%0A%20%20%20%20%20%20%20%20%20%20%20%20popup_69a5d0bbefe84b41b26e12922b91a879.setContent%28html_40faae7f6ab4498699316d6ca211f2f7%29%3B%0A%20%20%20%20%20%20%20%20%0A%0A%20%20%20%20%20%20%20%20circle_marker_f38be4f2948a4eca8d8e96d69d1e5029.bindPopup%28popup_69a5d0bbefe84b41b26e12922b91a879%29%0A%20%20%20%20%20%20%20%20%3B%0A%0A%20%20%20%20%20%20%20%20%0A%20%20%20%20%0A%20%20%20%20%0A%20%20%20%20%20%20%20%20%20%20%20%20var%20circle_marker_acbb1749ad4b42e3a09d2dfdf64394f5%20%3D%20L.circleMarker%28%0A%20%20%20%20%20%20%20%20%20%20%20%20%20%20%20%20%5B-41.135182000000015%2C%20175.01586400000002%5D%2C%0A%20%20%20%20%20%20%20%20%20%20%20%20%20%20%20%20%7B%22bubblingMouseEvents%22%3A%20true%2C%20%22color%22%3A%20%22violet%22%2C%20%22dashArray%22%3A%20null%2C%20%22dashOffset%22%3A%20null%2C%20%22fill%22%3A%20true%2C%20%22fillColor%22%3A%20%22%233186cc%22%2C%20%22fillOpacity%22%3A%200.7%2C%20%22fillRule%22%3A%20%22evenodd%22%2C%20%22lineCap%22%3A%20%22round%22%2C%20%22lineJoin%22%3A%20%22round%22%2C%20%22opacity%22%3A%201.0%2C%20%22radius%22%3A%205%2C%20%22stroke%22%3A%20true%2C%20%22weight%22%3A%203%7D%0A%20%20%20%20%20%20%20%20%20%20%20%20%29.addTo%28map_81c9d3e4985c443bb598227edbb1f7e9%29%3B%0A%20%20%20%20%20%20%20%20%0A%20%20%20%20%0A%20%20%20%20%20%20%20%20var%20popup_dc5c3182ab6145788e51eed8dd6ad6a6%20%3D%20L.popup%28%7B%22maxWidth%22%3A%20%22100%25%22%7D%29%3B%0A%0A%20%20%20%20%20%20%20%20%0A%20%20%20%20%20%20%20%20%20%20%20%20var%20html_9f6d6750fbf14dad87554f68558923c9%20%3D%20%24%28%60%3Cdiv%20id%3D%22html_9f6d6750fbf14dad87554f68558923c9%22%20style%3D%22width%3A%20100.0%25%3B%20height%3A%20100.0%25%3B%22%3E16%25%3C/div%3E%60%29%5B0%5D%3B%0A%20%20%20%20%20%20%20%20%20%20%20%20popup_dc5c3182ab6145788e51eed8dd6ad6a6.setContent%28html_9f6d6750fbf14dad87554f68558923c9%29%3B%0A%20%20%20%20%20%20%20%20%0A%0A%20%20%20%20%20%20%20%20circle_marker_acbb1749ad4b42e3a09d2dfdf64394f5.bindPopup%28popup_dc5c3182ab6145788e51eed8dd6ad6a6%29%0A%20%20%20%20%20%20%20%20%3B%0A%0A%20%20%20%20%20%20%20%20%0A%20%20%20%20%0A%20%20%20%20%0A%20%20%20%20%20%20%20%20%20%20%20%20var%20circle_marker_d9e0fa4ee4dd43a5a0042455f326c1de%20%3D%20L.circleMarker%28%0A%20%20%20%20%20%20%20%20%20%20%20%20%20%20%20%20%5B-41.13418200000002%2C%20175.01686400000003%5D%2C%0A%20%20%20%20%20%20%20%20%20%20%20%20%20%20%20%20%7B%22bubblingMouseEvents%22%3A%20true%2C%20%22color%22%3A%20%22violet%22%2C%20%22dashArray%22%3A%20null%2C%20%22dashOffset%22%3A%20null%2C%20%22fill%22%3A%20true%2C%20%22fillColor%22%3A%20%22%233186cc%22%2C%20%22fillOpacity%22%3A%200.7%2C%20%22fillRule%22%3A%20%22evenodd%22%2C%20%22lineCap%22%3A%20%22round%22%2C%20%22lineJoin%22%3A%20%22round%22%2C%20%22opacity%22%3A%201.0%2C%20%22radius%22%3A%205%2C%20%22stroke%22%3A%20true%2C%20%22weight%22%3A%203%7D%0A%20%20%20%20%20%20%20%20%20%20%20%20%29.addTo%28map_81c9d3e4985c443bb598227edbb1f7e9%29%3B%0A%20%20%20%20%20%20%20%20%0A%20%20%20%20%0A%20%20%20%20%20%20%20%20var%20popup_187334f14ca641479a74d62c3862d5e4%20%3D%20L.popup%28%7B%22maxWidth%22%3A%20%22100%25%22%7D%29%3B%0A%0A%20%20%20%20%20%20%20%20%0A%20%20%20%20%20%20%20%20%20%20%20%20var%20html_b32f12bb05eb486c97fecc307a8678d1%20%3D%20%24%28%60%3Cdiv%20id%3D%22html_b32f12bb05eb486c97fecc307a8678d1%22%20style%3D%22width%3A%20100.0%25%3B%20height%3A%20100.0%25%3B%22%3E15%25%3C/div%3E%60%29%5B0%5D%3B%0A%20%20%20%20%20%20%20%20%20%20%20%20popup_187334f14ca641479a74d62c3862d5e4.setContent%28html_b32f12bb05eb486c97fecc307a8678d1%29%3B%0A%20%20%20%20%20%20%20%20%0A%0A%20%20%20%20%20%20%20%20circle_marker_d9e0fa4ee4dd43a5a0042455f326c1de.bindPopup%28popup_187334f14ca641479a74d62c3862d5e4%29%0A%20%20%20%20%20%20%20%20%3B%0A%0A%20%20%20%20%20%20%20%20%0A%20%20%20%20%0A%20%20%20%20%0A%20%20%20%20%20%20%20%20%20%20%20%20var%20circle_marker_ce6d3085500643238246dc09bf33ad0f%20%3D%20L.circleMarker%28%0A%20%20%20%20%20%20%20%20%20%20%20%20%20%20%20%20%5B-41.13318200000002%2C%20175.01786400000003%5D%2C%0A%20%20%20%20%20%20%20%20%20%20%20%20%20%20%20%20%7B%22bubblingMouseEvents%22%3A%20true%2C%20%22color%22%3A%20%22violet%22%2C%20%22dashArray%22%3A%20null%2C%20%22dashOffset%22%3A%20null%2C%20%22fill%22%3A%20true%2C%20%22fillColor%22%3A%20%22%233186cc%22%2C%20%22fillOpacity%22%3A%200.7%2C%20%22fillRule%22%3A%20%22evenodd%22%2C%20%22lineCap%22%3A%20%22round%22%2C%20%22lineJoin%22%3A%20%22round%22%2C%20%22opacity%22%3A%201.0%2C%20%22radius%22%3A%205%2C%20%22stroke%22%3A%20true%2C%20%22weight%22%3A%203%7D%0A%20%20%20%20%20%20%20%20%20%20%20%20%29.addTo%28map_81c9d3e4985c443bb598227edbb1f7e9%29%3B%0A%20%20%20%20%20%20%20%20%0A%20%20%20%20%0A%20%20%20%20%20%20%20%20var%20popup_1afac6ff15e247f78603f72c8bfeaef8%20%3D%20L.popup%28%7B%22maxWidth%22%3A%20%22100%25%22%7D%29%3B%0A%0A%20%20%20%20%20%20%20%20%0A%20%20%20%20%20%20%20%20%20%20%20%20var%20html_f75fc936ce84465d899b82d81a844d60%20%3D%20%24%28%60%3Cdiv%20id%3D%22html_f75fc936ce84465d899b82d81a844d60%22%20style%3D%22width%3A%20100.0%25%3B%20height%3A%20100.0%25%3B%22%3E16%25%3C/div%3E%60%29%5B0%5D%3B%0A%20%20%20%20%20%20%20%20%20%20%20%20popup_1afac6ff15e247f78603f72c8bfeaef8.setContent%28html_f75fc936ce84465d899b82d81a844d60%29%3B%0A%20%20%20%20%20%20%20%20%0A%0A%20%20%20%20%20%20%20%20circle_marker_ce6d3085500643238246dc09bf33ad0f.bindPopup%28popup_1afac6ff15e247f78603f72c8bfeaef8%29%0A%20%20%20%20%20%20%20%20%3B%0A%0A%20%20%20%20%20%20%20%20%0A%20%20%20%20%0A%20%20%20%20%0A%20%20%20%20%20%20%20%20%20%20%20%20var%20circle_marker_e5f47b1eedb842fea56d848b962ed3ac%20%3D%20L.circleMarker%28%0A%20%20%20%20%20%20%20%20%20%20%20%20%20%20%20%20%5B-41.13218200000002%2C%20175.01886400000004%5D%2C%0A%20%20%20%20%20%20%20%20%20%20%20%20%20%20%20%20%7B%22bubblingMouseEvents%22%3A%20true%2C%20%22color%22%3A%20%22violet%22%2C%20%22dashArray%22%3A%20null%2C%20%22dashOffset%22%3A%20null%2C%20%22fill%22%3A%20true%2C%20%22fillColor%22%3A%20%22%233186cc%22%2C%20%22fillOpacity%22%3A%200.7%2C%20%22fillRule%22%3A%20%22evenodd%22%2C%20%22lineCap%22%3A%20%22round%22%2C%20%22lineJoin%22%3A%20%22round%22%2C%20%22opacity%22%3A%201.0%2C%20%22radius%22%3A%205%2C%20%22stroke%22%3A%20true%2C%20%22weight%22%3A%203%7D%0A%20%20%20%20%20%20%20%20%20%20%20%20%29.addTo%28map_81c9d3e4985c443bb598227edbb1f7e9%29%3B%0A%20%20%20%20%20%20%20%20%0A%20%20%20%20%0A%20%20%20%20%20%20%20%20var%20popup_2cfc0d4440ad47018285a2ef71d687ac%20%3D%20L.popup%28%7B%22maxWidth%22%3A%20%22100%25%22%7D%29%3B%0A%0A%20%20%20%20%20%20%20%20%0A%20%20%20%20%20%20%20%20%20%20%20%20var%20html_7d9140ddff4c40429697133ea86e17a3%20%3D%20%24%28%60%3Cdiv%20id%3D%22html_7d9140ddff4c40429697133ea86e17a3%22%20style%3D%22width%3A%20100.0%25%3B%20height%3A%20100.0%25%3B%22%3E21%25%3C/div%3E%60%29%5B0%5D%3B%0A%20%20%20%20%20%20%20%20%20%20%20%20popup_2cfc0d4440ad47018285a2ef71d687ac.setContent%28html_7d9140ddff4c40429697133ea86e17a3%29%3B%0A%20%20%20%20%20%20%20%20%0A%0A%20%20%20%20%20%20%20%20circle_marker_e5f47b1eedb842fea56d848b962ed3ac.bindPopup%28popup_2cfc0d4440ad47018285a2ef71d687ac%29%0A%20%20%20%20%20%20%20%20%3B%0A%0A%20%20%20%20%20%20%20%20%0A%20%20%20%20%0A%3C/script%3E onload=\"this.contentDocument.open();this.contentDocument.write(    decodeURIComponent(this.getAttribute('data-html')));this.contentDocument.close();\" allowfullscreen webkitallowfullscreen mozallowfullscreen></iframe></div></div>"
            ],
            "text/plain": [
              "<folium.folium.Map at 0x7f5d91929510>"
            ]
          },
          "metadata": {},
          "execution_count": 15
        }
      ]
    },
    {
      "cell_type": "code",
      "metadata": {
        "id": "f72GIFDobKy7"
      },
      "source": [
        "meanLat=[, -41.142829]\n",
        "meanLong=[, 175.030121]"
      ],
      "execution_count": null,
      "outputs": []
    },
    {
      "cell_type": "code",
      "metadata": {
        "id": "35W0Gj1_TlQN",
        "colab": {
          "base_uri": "https://localhost:8080/",
          "height": 712
        },
        "outputId": "5900d4e1-1a48-495f-d8a4-becbe2ede98c"
      },
      "source": [
        "mapObj = folium.Map(location=[-41.128701, 175.008512], zoom_start = 14.5)\n",
        "folium.Marker([-41.128701, 175.008512], popup=\"<i>Wellington Golf Club</i>\").add_to(mapObj)\n",
        "mapObj"
      ],
      "execution_count": null,
      "outputs": [
        {
          "output_type": "execute_result",
          "data": {
            "text/html": [
              "<div style=\"width:100%;\"><div style=\"position:relative;width:100%;height:0;padding-bottom:60%;\"><span style=\"color:#565656\">Make this Notebook Trusted to load map: File -> Trust Notebook</span><iframe src=\"about:blank\" style=\"position:absolute;width:100%;height:100%;left:0;top:0;border:none !important;\" data-html=%3C%21DOCTYPE%20html%3E%0A%3Chead%3E%20%20%20%20%0A%20%20%20%20%3Cmeta%20http-equiv%3D%22content-type%22%20content%3D%22text/html%3B%20charset%3DUTF-8%22%20/%3E%0A%20%20%20%20%0A%20%20%20%20%20%20%20%20%3Cscript%3E%0A%20%20%20%20%20%20%20%20%20%20%20%20L_NO_TOUCH%20%3D%20false%3B%0A%20%20%20%20%20%20%20%20%20%20%20%20L_DISABLE_3D%20%3D%20false%3B%0A%20%20%20%20%20%20%20%20%3C/script%3E%0A%20%20%20%20%0A%20%20%20%20%3Cstyle%3Ehtml%2C%20body%20%7Bwidth%3A%20100%25%3Bheight%3A%20100%25%3Bmargin%3A%200%3Bpadding%3A%200%3B%7D%3C/style%3E%0A%20%20%20%20%3Cstyle%3E%23map%20%7Bposition%3Aabsolute%3Btop%3A0%3Bbottom%3A0%3Bright%3A0%3Bleft%3A0%3B%7D%3C/style%3E%0A%20%20%20%20%3Cscript%20src%3D%22https%3A//cdn.jsdelivr.net/npm/leaflet%401.6.0/dist/leaflet.js%22%3E%3C/script%3E%0A%20%20%20%20%3Cscript%20src%3D%22https%3A//code.jquery.com/jquery-1.12.4.min.js%22%3E%3C/script%3E%0A%20%20%20%20%3Cscript%20src%3D%22https%3A//maxcdn.bootstrapcdn.com/bootstrap/3.2.0/js/bootstrap.min.js%22%3E%3C/script%3E%0A%20%20%20%20%3Cscript%20src%3D%22https%3A//cdnjs.cloudflare.com/ajax/libs/Leaflet.awesome-markers/2.0.2/leaflet.awesome-markers.js%22%3E%3C/script%3E%0A%20%20%20%20%3Clink%20rel%3D%22stylesheet%22%20href%3D%22https%3A//cdn.jsdelivr.net/npm/leaflet%401.6.0/dist/leaflet.css%22/%3E%0A%20%20%20%20%3Clink%20rel%3D%22stylesheet%22%20href%3D%22https%3A//maxcdn.bootstrapcdn.com/bootstrap/3.2.0/css/bootstrap.min.css%22/%3E%0A%20%20%20%20%3Clink%20rel%3D%22stylesheet%22%20href%3D%22https%3A//maxcdn.bootstrapcdn.com/bootstrap/3.2.0/css/bootstrap-theme.min.css%22/%3E%0A%20%20%20%20%3Clink%20rel%3D%22stylesheet%22%20href%3D%22https%3A//maxcdn.bootstrapcdn.com/font-awesome/4.6.3/css/font-awesome.min.css%22/%3E%0A%20%20%20%20%3Clink%20rel%3D%22stylesheet%22%20href%3D%22https%3A//cdnjs.cloudflare.com/ajax/libs/Leaflet.awesome-markers/2.0.2/leaflet.awesome-markers.css%22/%3E%0A%20%20%20%20%3Clink%20rel%3D%22stylesheet%22%20href%3D%22https%3A//cdn.jsdelivr.net/gh/python-visualization/folium/folium/templates/leaflet.awesome.rotate.min.css%22/%3E%0A%20%20%20%20%0A%20%20%20%20%20%20%20%20%20%20%20%20%3Cmeta%20name%3D%22viewport%22%20content%3D%22width%3Ddevice-width%2C%0A%20%20%20%20%20%20%20%20%20%20%20%20%20%20%20%20initial-scale%3D1.0%2C%20maximum-scale%3D1.0%2C%20user-scalable%3Dno%22%20/%3E%0A%20%20%20%20%20%20%20%20%20%20%20%20%3Cstyle%3E%0A%20%20%20%20%20%20%20%20%20%20%20%20%20%20%20%20%23map_f5b7062bd7fe44ac8fcf0d8b47daa450%20%7B%0A%20%20%20%20%20%20%20%20%20%20%20%20%20%20%20%20%20%20%20%20position%3A%20relative%3B%0A%20%20%20%20%20%20%20%20%20%20%20%20%20%20%20%20%20%20%20%20width%3A%20100.0%25%3B%0A%20%20%20%20%20%20%20%20%20%20%20%20%20%20%20%20%20%20%20%20height%3A%20100.0%25%3B%0A%20%20%20%20%20%20%20%20%20%20%20%20%20%20%20%20%20%20%20%20left%3A%200.0%25%3B%0A%20%20%20%20%20%20%20%20%20%20%20%20%20%20%20%20%20%20%20%20top%3A%200.0%25%3B%0A%20%20%20%20%20%20%20%20%20%20%20%20%20%20%20%20%7D%0A%20%20%20%20%20%20%20%20%20%20%20%20%3C/style%3E%0A%20%20%20%20%20%20%20%20%0A%3C/head%3E%0A%3Cbody%3E%20%20%20%20%0A%20%20%20%20%0A%20%20%20%20%20%20%20%20%20%20%20%20%3Cdiv%20class%3D%22folium-map%22%20id%3D%22map_f5b7062bd7fe44ac8fcf0d8b47daa450%22%20%3E%3C/div%3E%0A%20%20%20%20%20%20%20%20%0A%3C/body%3E%0A%3Cscript%3E%20%20%20%20%0A%20%20%20%20%0A%20%20%20%20%20%20%20%20%20%20%20%20var%20map_f5b7062bd7fe44ac8fcf0d8b47daa450%20%3D%20L.map%28%0A%20%20%20%20%20%20%20%20%20%20%20%20%20%20%20%20%22map_f5b7062bd7fe44ac8fcf0d8b47daa450%22%2C%0A%20%20%20%20%20%20%20%20%20%20%20%20%20%20%20%20%7B%0A%20%20%20%20%20%20%20%20%20%20%20%20%20%20%20%20%20%20%20%20center%3A%20%5B-41.128701%2C%20175.008512%5D%2C%0A%20%20%20%20%20%20%20%20%20%20%20%20%20%20%20%20%20%20%20%20crs%3A%20L.CRS.EPSG3857%2C%0A%20%20%20%20%20%20%20%20%20%20%20%20%20%20%20%20%20%20%20%20zoom%3A%2014.5%2C%0A%20%20%20%20%20%20%20%20%20%20%20%20%20%20%20%20%20%20%20%20zoomControl%3A%20true%2C%0A%20%20%20%20%20%20%20%20%20%20%20%20%20%20%20%20%20%20%20%20preferCanvas%3A%20false%2C%0A%20%20%20%20%20%20%20%20%20%20%20%20%20%20%20%20%7D%0A%20%20%20%20%20%20%20%20%20%20%20%20%29%3B%0A%0A%20%20%20%20%20%20%20%20%20%20%20%20%0A%0A%20%20%20%20%20%20%20%20%0A%20%20%20%20%0A%20%20%20%20%20%20%20%20%20%20%20%20var%20tile_layer_bf896e0ea11b451fa875fd417f618493%20%3D%20L.tileLayer%28%0A%20%20%20%20%20%20%20%20%20%20%20%20%20%20%20%20%22https%3A//%7Bs%7D.tile.openstreetmap.org/%7Bz%7D/%7Bx%7D/%7By%7D.png%22%2C%0A%20%20%20%20%20%20%20%20%20%20%20%20%20%20%20%20%7B%22attribution%22%3A%20%22Data%20by%20%5Cu0026copy%3B%20%5Cu003ca%20href%3D%5C%22http%3A//openstreetmap.org%5C%22%5Cu003eOpenStreetMap%5Cu003c/a%5Cu003e%2C%20under%20%5Cu003ca%20href%3D%5C%22http%3A//www.openstreetmap.org/copyright%5C%22%5Cu003eODbL%5Cu003c/a%5Cu003e.%22%2C%20%22detectRetina%22%3A%20false%2C%20%22maxNativeZoom%22%3A%2018%2C%20%22maxZoom%22%3A%2018%2C%20%22minZoom%22%3A%200%2C%20%22noWrap%22%3A%20false%2C%20%22opacity%22%3A%201%2C%20%22subdomains%22%3A%20%22abc%22%2C%20%22tms%22%3A%20false%7D%0A%20%20%20%20%20%20%20%20%20%20%20%20%29.addTo%28map_f5b7062bd7fe44ac8fcf0d8b47daa450%29%3B%0A%20%20%20%20%20%20%20%20%0A%20%20%20%20%0A%20%20%20%20%20%20%20%20%20%20%20%20var%20marker_6f312df3f1a540f09451769e43e29f05%20%3D%20L.marker%28%0A%20%20%20%20%20%20%20%20%20%20%20%20%20%20%20%20%5B-41.128701%2C%20175.008512%5D%2C%0A%20%20%20%20%20%20%20%20%20%20%20%20%20%20%20%20%7B%7D%0A%20%20%20%20%20%20%20%20%20%20%20%20%29.addTo%28map_f5b7062bd7fe44ac8fcf0d8b47daa450%29%3B%0A%20%20%20%20%20%20%20%20%0A%20%20%20%20%0A%20%20%20%20%20%20%20%20var%20popup_f33f563cd64f4444865a27d9c0f1ce98%20%3D%20L.popup%28%7B%22maxWidth%22%3A%20%22100%25%22%7D%29%3B%0A%0A%20%20%20%20%20%20%20%20%0A%20%20%20%20%20%20%20%20%20%20%20%20var%20html_9bb85fe338484d55af85989c0281e3ed%20%3D%20%24%28%60%3Cdiv%20id%3D%22html_9bb85fe338484d55af85989c0281e3ed%22%20style%3D%22width%3A%20100.0%25%3B%20height%3A%20100.0%25%3B%22%3E%3Ci%3EWellington%20Golf%20Club%3C/i%3E%3C/div%3E%60%29%5B0%5D%3B%0A%20%20%20%20%20%20%20%20%20%20%20%20popup_f33f563cd64f4444865a27d9c0f1ce98.setContent%28html_9bb85fe338484d55af85989c0281e3ed%29%3B%0A%20%20%20%20%20%20%20%20%0A%0A%20%20%20%20%20%20%20%20marker_6f312df3f1a540f09451769e43e29f05.bindPopup%28popup_f33f563cd64f4444865a27d9c0f1ce98%29%0A%20%20%20%20%20%20%20%20%3B%0A%0A%20%20%20%20%20%20%20%20%0A%20%20%20%20%0A%3C/script%3E onload=\"this.contentDocument.open();this.contentDocument.write(    decodeURIComponent(this.getAttribute('data-html')));this.contentDocument.close();\" allowfullscreen webkitallowfullscreen mozallowfullscreen></iframe></div></div>"
            ],
            "text/plain": [
              "<folium.folium.Map at 0x7f32c30b0dd0>"
            ]
          },
          "metadata": {
            "tags": []
          },
          "execution_count": 59
        }
      ]
    },
    {
      "cell_type": "code",
      "metadata": {
        "colab": {
          "base_uri": "https://localhost:8080/",
          "height": 531
        },
        "id": "PH-RomVVb7A_",
        "outputId": "3e76de7c-d7e0-4d74-e303-6cccdcd14e73"
      },
      "source": [
        "mapObj = folium.Map(location=[-41.138359, 175.010276], zoom_start = 14.5)\n",
        "folium.Marker([-41.138359, 175.010276], popup=\"<i>Wellington Golf Club</i>\").add_to(mapObj)\n",
        "folium.Marker([-41.130510, 175.024013], popup=\"<i>Wellington Golf Club</i>\").add_to(mapObj)\n",
        "folium.Marker([-41.142052, 175.013558], popup=\"<i>Wellington Golf Club</i>\").add_to(mapObj)\n",
        "folium.Marker([-41.135117, 175.028397], popup=\"<i>Wellington Golf Club</i>\").add_to(mapObj)\n",
        "folium.Marker([-41.139660, 175.024020], popup=\"<i>Wellington Golf Club</i>\").add_to(mapObj)\n",
        "mapObj"
      ],
      "execution_count": null,
      "outputs": [
        {
          "output_type": "execute_result",
          "data": {
            "text/html": [
              "<div style=\"width:100%;\"><div style=\"position:relative;width:100%;height:0;padding-bottom:60%;\"><span style=\"color:#565656\">Make this Notebook Trusted to load map: File -> Trust Notebook</span><iframe src=\"about:blank\" style=\"position:absolute;width:100%;height:100%;left:0;top:0;border:none !important;\" data-html=%3C%21DOCTYPE%20html%3E%0A%3Chead%3E%20%20%20%20%0A%20%20%20%20%3Cmeta%20http-equiv%3D%22content-type%22%20content%3D%22text/html%3B%20charset%3DUTF-8%22%20/%3E%0A%20%20%20%20%3Cscript%3EL_PREFER_CANVAS%3Dfalse%3B%20L_NO_TOUCH%3Dfalse%3B%20L_DISABLE_3D%3Dfalse%3B%3C/script%3E%0A%20%20%20%20%3Cscript%20src%3D%22https%3A//cdn.jsdelivr.net/npm/leaflet%401.4.0/dist/leaflet.js%22%3E%3C/script%3E%0A%20%20%20%20%3Cscript%20src%3D%22https%3A//code.jquery.com/jquery-1.12.4.min.js%22%3E%3C/script%3E%0A%20%20%20%20%3Cscript%20src%3D%22https%3A//maxcdn.bootstrapcdn.com/bootstrap/3.2.0/js/bootstrap.min.js%22%3E%3C/script%3E%0A%20%20%20%20%3Cscript%20src%3D%22https%3A//cdnjs.cloudflare.com/ajax/libs/Leaflet.awesome-markers/2.0.2/leaflet.awesome-markers.js%22%3E%3C/script%3E%0A%20%20%20%20%3Clink%20rel%3D%22stylesheet%22%20href%3D%22https%3A//cdn.jsdelivr.net/npm/leaflet%401.4.0/dist/leaflet.css%22/%3E%0A%20%20%20%20%3Clink%20rel%3D%22stylesheet%22%20href%3D%22https%3A//maxcdn.bootstrapcdn.com/bootstrap/3.2.0/css/bootstrap.min.css%22/%3E%0A%20%20%20%20%3Clink%20rel%3D%22stylesheet%22%20href%3D%22https%3A//maxcdn.bootstrapcdn.com/bootstrap/3.2.0/css/bootstrap-theme.min.css%22/%3E%0A%20%20%20%20%3Clink%20rel%3D%22stylesheet%22%20href%3D%22https%3A//maxcdn.bootstrapcdn.com/font-awesome/4.6.3/css/font-awesome.min.css%22/%3E%0A%20%20%20%20%3Clink%20rel%3D%22stylesheet%22%20href%3D%22https%3A//cdnjs.cloudflare.com/ajax/libs/Leaflet.awesome-markers/2.0.2/leaflet.awesome-markers.css%22/%3E%0A%20%20%20%20%3Clink%20rel%3D%22stylesheet%22%20href%3D%22https%3A//rawcdn.githack.com/python-visualization/folium/master/folium/templates/leaflet.awesome.rotate.css%22/%3E%0A%20%20%20%20%3Cstyle%3Ehtml%2C%20body%20%7Bwidth%3A%20100%25%3Bheight%3A%20100%25%3Bmargin%3A%200%3Bpadding%3A%200%3B%7D%3C/style%3E%0A%20%20%20%20%3Cstyle%3E%23map%20%7Bposition%3Aabsolute%3Btop%3A0%3Bbottom%3A0%3Bright%3A0%3Bleft%3A0%3B%7D%3C/style%3E%0A%20%20%20%20%0A%20%20%20%20%3Cmeta%20name%3D%22viewport%22%20content%3D%22width%3Ddevice-width%2C%0A%20%20%20%20%20%20%20%20initial-scale%3D1.0%2C%20maximum-scale%3D1.0%2C%20user-scalable%3Dno%22%20/%3E%0A%20%20%20%20%3Cstyle%3E%23map_9730c1100df949519daf663313595b0c%20%7B%0A%20%20%20%20%20%20%20%20position%3A%20relative%3B%0A%20%20%20%20%20%20%20%20width%3A%20100.0%25%3B%0A%20%20%20%20%20%20%20%20height%3A%20100.0%25%3B%0A%20%20%20%20%20%20%20%20left%3A%200.0%25%3B%0A%20%20%20%20%20%20%20%20top%3A%200.0%25%3B%0A%20%20%20%20%20%20%20%20%7D%0A%20%20%20%20%3C/style%3E%0A%3C/head%3E%0A%3Cbody%3E%20%20%20%20%0A%20%20%20%20%0A%20%20%20%20%3Cdiv%20class%3D%22folium-map%22%20id%3D%22map_9730c1100df949519daf663313595b0c%22%20%3E%3C/div%3E%0A%3C/body%3E%0A%3Cscript%3E%20%20%20%20%0A%20%20%20%20%0A%20%20%20%20%0A%20%20%20%20%20%20%20%20var%20bounds%20%3D%20null%3B%0A%20%20%20%20%0A%0A%20%20%20%20var%20map_9730c1100df949519daf663313595b0c%20%3D%20L.map%28%0A%20%20%20%20%20%20%20%20%27map_9730c1100df949519daf663313595b0c%27%2C%20%7B%0A%20%20%20%20%20%20%20%20center%3A%20%5B-41.138359%2C%20175.010276%5D%2C%0A%20%20%20%20%20%20%20%20zoom%3A%2014.5%2C%0A%20%20%20%20%20%20%20%20maxBounds%3A%20bounds%2C%0A%20%20%20%20%20%20%20%20layers%3A%20%5B%5D%2C%0A%20%20%20%20%20%20%20%20worldCopyJump%3A%20false%2C%0A%20%20%20%20%20%20%20%20crs%3A%20L.CRS.EPSG3857%2C%0A%20%20%20%20%20%20%20%20zoomControl%3A%20true%2C%0A%20%20%20%20%20%20%20%20%7D%29%3B%0A%0A%0A%20%20%20%20%0A%20%20%20%20var%20tile_layer_8c60f6df5cda45d0b18cb313a28cb579%20%3D%20L.tileLayer%28%0A%20%20%20%20%20%20%20%20%27https%3A//%7Bs%7D.tile.openstreetmap.org/%7Bz%7D/%7Bx%7D/%7By%7D.png%27%2C%0A%20%20%20%20%20%20%20%20%7B%0A%20%20%20%20%20%20%20%20%22attribution%22%3A%20null%2C%0A%20%20%20%20%20%20%20%20%22detectRetina%22%3A%20false%2C%0A%20%20%20%20%20%20%20%20%22maxNativeZoom%22%3A%2018%2C%0A%20%20%20%20%20%20%20%20%22maxZoom%22%3A%2018%2C%0A%20%20%20%20%20%20%20%20%22minZoom%22%3A%200%2C%0A%20%20%20%20%20%20%20%20%22noWrap%22%3A%20false%2C%0A%20%20%20%20%20%20%20%20%22opacity%22%3A%201%2C%0A%20%20%20%20%20%20%20%20%22subdomains%22%3A%20%22abc%22%2C%0A%20%20%20%20%20%20%20%20%22tms%22%3A%20false%0A%7D%29.addTo%28map_9730c1100df949519daf663313595b0c%29%3B%0A%20%20%20%20%0A%20%20%20%20%20%20%20%20var%20marker_6fb4664edbd14382a3d38e606a2dc48d%20%3D%20L.marker%28%0A%20%20%20%20%20%20%20%20%20%20%20%20%5B-41.138359%2C%20175.010276%5D%2C%0A%20%20%20%20%20%20%20%20%20%20%20%20%7B%0A%20%20%20%20%20%20%20%20%20%20%20%20%20%20%20%20icon%3A%20new%20L.Icon.Default%28%29%2C%0A%20%20%20%20%20%20%20%20%20%20%20%20%20%20%20%20%7D%0A%20%20%20%20%20%20%20%20%20%20%20%20%29.addTo%28map_9730c1100df949519daf663313595b0c%29%3B%0A%20%20%20%20%20%20%20%20%0A%20%20%20%20%0A%20%20%20%20%20%20%20%20%20%20%20%20var%20popup_380422ea847d4b1aadb94263b87e4094%20%3D%20L.popup%28%7BmaxWidth%3A%20%27100%25%27%0A%20%20%20%20%20%20%20%20%20%20%20%20%0A%20%20%20%20%20%20%20%20%20%20%20%20%7D%29%3B%0A%0A%20%20%20%20%20%20%20%20%20%20%20%20%0A%20%20%20%20%20%20%20%20%20%20%20%20%20%20%20%20var%20html_84b5741a0e234479a4b46cebcd0735ec%20%3D%20%24%28%60%3Cdiv%20id%3D%22html_84b5741a0e234479a4b46cebcd0735ec%22%20style%3D%22width%3A%20100.0%25%3B%20height%3A%20100.0%25%3B%22%3E%3Ci%3EWellington%20Golf%20Club%3C/i%3E%3C/div%3E%60%29%5B0%5D%3B%0A%20%20%20%20%20%20%20%20%20%20%20%20%20%20%20%20popup_380422ea847d4b1aadb94263b87e4094.setContent%28html_84b5741a0e234479a4b46cebcd0735ec%29%3B%0A%20%20%20%20%20%20%20%20%20%20%20%20%0A%0A%20%20%20%20%20%20%20%20%20%20%20%20marker_6fb4664edbd14382a3d38e606a2dc48d.bindPopup%28popup_380422ea847d4b1aadb94263b87e4094%29%0A%20%20%20%20%20%20%20%20%20%20%20%20%3B%0A%0A%20%20%20%20%20%20%20%20%20%20%20%20%0A%20%20%20%20%20%20%20%20%0A%20%20%20%20%0A%20%20%20%20%20%20%20%20var%20marker_6c762df12d4c4c9d838ba5e657d0b14a%20%3D%20L.marker%28%0A%20%20%20%20%20%20%20%20%20%20%20%20%5B-41.13051%2C%20175.024013%5D%2C%0A%20%20%20%20%20%20%20%20%20%20%20%20%7B%0A%20%20%20%20%20%20%20%20%20%20%20%20%20%20%20%20icon%3A%20new%20L.Icon.Default%28%29%2C%0A%20%20%20%20%20%20%20%20%20%20%20%20%20%20%20%20%7D%0A%20%20%20%20%20%20%20%20%20%20%20%20%29.addTo%28map_9730c1100df949519daf663313595b0c%29%3B%0A%20%20%20%20%20%20%20%20%0A%20%20%20%20%0A%20%20%20%20%20%20%20%20%20%20%20%20var%20popup_89940373c0b24c80a19a1e01ca299f1d%20%3D%20L.popup%28%7BmaxWidth%3A%20%27100%25%27%0A%20%20%20%20%20%20%20%20%20%20%20%20%0A%20%20%20%20%20%20%20%20%20%20%20%20%7D%29%3B%0A%0A%20%20%20%20%20%20%20%20%20%20%20%20%0A%20%20%20%20%20%20%20%20%20%20%20%20%20%20%20%20var%20html_158a317b2e9248b9ba8c4eceee6d1f91%20%3D%20%24%28%60%3Cdiv%20id%3D%22html_158a317b2e9248b9ba8c4eceee6d1f91%22%20style%3D%22width%3A%20100.0%25%3B%20height%3A%20100.0%25%3B%22%3E%3Ci%3EWellington%20Golf%20Club%3C/i%3E%3C/div%3E%60%29%5B0%5D%3B%0A%20%20%20%20%20%20%20%20%20%20%20%20%20%20%20%20popup_89940373c0b24c80a19a1e01ca299f1d.setContent%28html_158a317b2e9248b9ba8c4eceee6d1f91%29%3B%0A%20%20%20%20%20%20%20%20%20%20%20%20%0A%0A%20%20%20%20%20%20%20%20%20%20%20%20marker_6c762df12d4c4c9d838ba5e657d0b14a.bindPopup%28popup_89940373c0b24c80a19a1e01ca299f1d%29%0A%20%20%20%20%20%20%20%20%20%20%20%20%3B%0A%0A%20%20%20%20%20%20%20%20%20%20%20%20%0A%20%20%20%20%20%20%20%20%0A%20%20%20%20%0A%20%20%20%20%20%20%20%20var%20marker_797650cba6634e24ba5d7672697a95e0%20%3D%20L.marker%28%0A%20%20%20%20%20%20%20%20%20%20%20%20%5B-41.142052%2C%20175.013558%5D%2C%0A%20%20%20%20%20%20%20%20%20%20%20%20%7B%0A%20%20%20%20%20%20%20%20%20%20%20%20%20%20%20%20icon%3A%20new%20L.Icon.Default%28%29%2C%0A%20%20%20%20%20%20%20%20%20%20%20%20%20%20%20%20%7D%0A%20%20%20%20%20%20%20%20%20%20%20%20%29.addTo%28map_9730c1100df949519daf663313595b0c%29%3B%0A%20%20%20%20%20%20%20%20%0A%20%20%20%20%0A%20%20%20%20%20%20%20%20%20%20%20%20var%20popup_de4f6ce61f1840ac9b4a9c8092b60bb9%20%3D%20L.popup%28%7BmaxWidth%3A%20%27100%25%27%0A%20%20%20%20%20%20%20%20%20%20%20%20%0A%20%20%20%20%20%20%20%20%20%20%20%20%7D%29%3B%0A%0A%20%20%20%20%20%20%20%20%20%20%20%20%0A%20%20%20%20%20%20%20%20%20%20%20%20%20%20%20%20var%20html_6d2e7ddb5ebe4c0f80f9bc0cb4f836ef%20%3D%20%24%28%60%3Cdiv%20id%3D%22html_6d2e7ddb5ebe4c0f80f9bc0cb4f836ef%22%20style%3D%22width%3A%20100.0%25%3B%20height%3A%20100.0%25%3B%22%3E%3Ci%3EWellington%20Golf%20Club%3C/i%3E%3C/div%3E%60%29%5B0%5D%3B%0A%20%20%20%20%20%20%20%20%20%20%20%20%20%20%20%20popup_de4f6ce61f1840ac9b4a9c8092b60bb9.setContent%28html_6d2e7ddb5ebe4c0f80f9bc0cb4f836ef%29%3B%0A%20%20%20%20%20%20%20%20%20%20%20%20%0A%0A%20%20%20%20%20%20%20%20%20%20%20%20marker_797650cba6634e24ba5d7672697a95e0.bindPopup%28popup_de4f6ce61f1840ac9b4a9c8092b60bb9%29%0A%20%20%20%20%20%20%20%20%20%20%20%20%3B%0A%0A%20%20%20%20%20%20%20%20%20%20%20%20%0A%20%20%20%20%20%20%20%20%0A%20%20%20%20%0A%20%20%20%20%20%20%20%20var%20marker_b40b28a3376e4efcb30e6e93c8b0642e%20%3D%20L.marker%28%0A%20%20%20%20%20%20%20%20%20%20%20%20%5B-41.135117%2C%20175.028397%5D%2C%0A%20%20%20%20%20%20%20%20%20%20%20%20%7B%0A%20%20%20%20%20%20%20%20%20%20%20%20%20%20%20%20icon%3A%20new%20L.Icon.Default%28%29%2C%0A%20%20%20%20%20%20%20%20%20%20%20%20%20%20%20%20%7D%0A%20%20%20%20%20%20%20%20%20%20%20%20%29.addTo%28map_9730c1100df949519daf663313595b0c%29%3B%0A%20%20%20%20%20%20%20%20%0A%20%20%20%20%0A%20%20%20%20%20%20%20%20%20%20%20%20var%20popup_19281349730540418aabb2fa0df3ba59%20%3D%20L.popup%28%7BmaxWidth%3A%20%27100%25%27%0A%20%20%20%20%20%20%20%20%20%20%20%20%0A%20%20%20%20%20%20%20%20%20%20%20%20%7D%29%3B%0A%0A%20%20%20%20%20%20%20%20%20%20%20%20%0A%20%20%20%20%20%20%20%20%20%20%20%20%20%20%20%20var%20html_cfa6e7bf851c4761a8159f78a6af5617%20%3D%20%24%28%60%3Cdiv%20id%3D%22html_cfa6e7bf851c4761a8159f78a6af5617%22%20style%3D%22width%3A%20100.0%25%3B%20height%3A%20100.0%25%3B%22%3E%3Ci%3EWellington%20Golf%20Club%3C/i%3E%3C/div%3E%60%29%5B0%5D%3B%0A%20%20%20%20%20%20%20%20%20%20%20%20%20%20%20%20popup_19281349730540418aabb2fa0df3ba59.setContent%28html_cfa6e7bf851c4761a8159f78a6af5617%29%3B%0A%20%20%20%20%20%20%20%20%20%20%20%20%0A%0A%20%20%20%20%20%20%20%20%20%20%20%20marker_b40b28a3376e4efcb30e6e93c8b0642e.bindPopup%28popup_19281349730540418aabb2fa0df3ba59%29%0A%20%20%20%20%20%20%20%20%20%20%20%20%3B%0A%0A%20%20%20%20%20%20%20%20%20%20%20%20%0A%20%20%20%20%20%20%20%20%0A%20%20%20%20%0A%20%20%20%20%20%20%20%20var%20marker_c1489c6a53cc46989b755cd5a66e2665%20%3D%20L.marker%28%0A%20%20%20%20%20%20%20%20%20%20%20%20%5B-41.13966%2C%20175.02402%5D%2C%0A%20%20%20%20%20%20%20%20%20%20%20%20%7B%0A%20%20%20%20%20%20%20%20%20%20%20%20%20%20%20%20icon%3A%20new%20L.Icon.Default%28%29%2C%0A%20%20%20%20%20%20%20%20%20%20%20%20%20%20%20%20%7D%0A%20%20%20%20%20%20%20%20%20%20%20%20%29.addTo%28map_9730c1100df949519daf663313595b0c%29%3B%0A%20%20%20%20%20%20%20%20%0A%20%20%20%20%0A%20%20%20%20%20%20%20%20%20%20%20%20var%20popup_eb61c6990dbf4ccfb937b1fd9b87a3a0%20%3D%20L.popup%28%7BmaxWidth%3A%20%27100%25%27%0A%20%20%20%20%20%20%20%20%20%20%20%20%0A%20%20%20%20%20%20%20%20%20%20%20%20%7D%29%3B%0A%0A%20%20%20%20%20%20%20%20%20%20%20%20%0A%20%20%20%20%20%20%20%20%20%20%20%20%20%20%20%20var%20html_bfd1e21a20644b349ea12e46a8cda769%20%3D%20%24%28%60%3Cdiv%20id%3D%22html_bfd1e21a20644b349ea12e46a8cda769%22%20style%3D%22width%3A%20100.0%25%3B%20height%3A%20100.0%25%3B%22%3E%3Ci%3EWellington%20Golf%20Club%3C/i%3E%3C/div%3E%60%29%5B0%5D%3B%0A%20%20%20%20%20%20%20%20%20%20%20%20%20%20%20%20popup_eb61c6990dbf4ccfb937b1fd9b87a3a0.setContent%28html_bfd1e21a20644b349ea12e46a8cda769%29%3B%0A%20%20%20%20%20%20%20%20%20%20%20%20%0A%0A%20%20%20%20%20%20%20%20%20%20%20%20marker_c1489c6a53cc46989b755cd5a66e2665.bindPopup%28popup_eb61c6990dbf4ccfb937b1fd9b87a3a0%29%0A%20%20%20%20%20%20%20%20%20%20%20%20%3B%0A%0A%20%20%20%20%20%20%20%20%20%20%20%20%0A%20%20%20%20%20%20%20%20%0A%3C/script%3E onload=\"this.contentDocument.open();this.contentDocument.write(    decodeURIComponent(this.getAttribute('data-html')));this.contentDocument.close();\" allowfullscreen webkitallowfullscreen mozallowfullscreen></iframe></div></div>"
            ],
            "text/plain": [
              "<folium.folium.Map at 0x7fb38f734290>"
            ]
          },
          "metadata": {
            "tags": []
          },
          "execution_count": 30
        }
      ]
    },
    {
      "cell_type": "code",
      "metadata": {
        "id": "bJGG61Hkcye6"
      },
      "source": [
        "import plotly.express as px\n",
        "fig, ax = plt.subplots(figsize=(12, 6))                 # map size\n",
        "dist.plot(ax=ax, color='lightgrey')                     # underying map\n",
        "dist.plot(column='totalpopul', ax=ax, cmap='viridis')"
      ],
      "execution_count": null,
      "outputs": []
    }
  ]
}