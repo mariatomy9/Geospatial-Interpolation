{
  "nbformat": 4,
  "nbformat_minor": 0,
  "metadata": {
    "colab": {
      "name": "Excel with py(some techniques).ipynb",
      "provenance": [],
      "authorship_tag": "ABX9TyN64JCOcwyWEHnWSyaNgU6o",
      "include_colab_link": true
    },
    "kernelspec": {
      "name": "python3",
      "display_name": "Python 3"
    },
    "language_info": {
      "name": "python"
    }
  },
  "cells": [
    {
      "cell_type": "markdown",
      "metadata": {
        "id": "view-in-github",
        "colab_type": "text"
      },
      "source": [
        "<a href=\"https://colab.research.google.com/github/mariatomy9/Geospatial-Interpolation/blob/main/Excel_with_py(some_techniques).ipynb\" target=\"_parent\"><img src=\"https://colab.research.google.com/assets/colab-badge.svg\" alt=\"Open In Colab\"/></a>"
      ]
    },
    {
      "cell_type": "code",
      "metadata": {
        "colab": {
          "base_uri": "https://localhost:8080/"
        },
        "id": "kljq-hzKM4Le",
        "outputId": "246a5bae-7230-4ead-a03e-243b58b6da51"
      },
      "source": [
        "!pip install xlsxwriter "
      ],
      "execution_count": null,
      "outputs": [
        {
          "output_type": "stream",
          "text": [
            "Collecting xlsxwriter\n",
            "  Downloading XlsxWriter-2.0.0-py2.py3-none-any.whl (149 kB)\n",
            "\u001b[?25l\r\u001b[K     |██▏                             | 10 kB 24.3 MB/s eta 0:00:01\r\u001b[K     |████▍                           | 20 kB 28.6 MB/s eta 0:00:01\r\u001b[K     |██████▋                         | 30 kB 28.9 MB/s eta 0:00:01\r\u001b[K     |████████▊                       | 40 kB 29.3 MB/s eta 0:00:01\r\u001b[K     |███████████                     | 51 kB 32.5 MB/s eta 0:00:01\r\u001b[K     |█████████████▏                  | 61 kB 34.6 MB/s eta 0:00:01\r\u001b[K     |███████████████▎                | 71 kB 27.4 MB/s eta 0:00:01\r\u001b[K     |█████████████████▌              | 81 kB 28.3 MB/s eta 0:00:01\r\u001b[K     |███████████████████▊            | 92 kB 25.9 MB/s eta 0:00:01\r\u001b[K     |█████████████████████▉          | 102 kB 25.5 MB/s eta 0:00:01\r\u001b[K     |████████████████████████        | 112 kB 25.5 MB/s eta 0:00:01\r\u001b[K     |██████████████████████████▎     | 122 kB 25.5 MB/s eta 0:00:01\r\u001b[K     |████████████████████████████▌   | 133 kB 25.5 MB/s eta 0:00:01\r\u001b[K     |██████████████████████████████▋ | 143 kB 25.5 MB/s eta 0:00:01\r\u001b[K     |████████████████████████████████| 149 kB 25.5 MB/s \n",
            "\u001b[?25hInstalling collected packages: xlsxwriter\n",
            "Successfully installed xlsxwriter-2.0.0\n"
          ],
          "name": "stdout"
        }
      ]
    },
    {
      "cell_type": "code",
      "metadata": {
        "colab": {
          "base_uri": "https://localhost:8080/",
          "height": 201
        },
        "id": "DNj2qrJLM8-J",
        "outputId": "7bcafd4e-2acb-4bba-84b0-d444b7f605c0"
      },
      "source": [
        "import xlsxwriter\n",
        "  \n",
        "# Workbook() takes one, non-optional, argument \n",
        "# which is the filename that we want to create.\n",
        "workbook = xlsxwriter.Workbook('Turf.xlsx')\n",
        "  \n",
        "# The workbook object is then used to add new \n",
        "# worksheet via the add_worksheet() method.\n",
        "worksheet = workbook.add_worksheet('G1A0000382')\n",
        "  \n",
        "# Use the worksheet object to write\n",
        "# data via the write() method.\n",
        "# worksheet.write('A1', 'Hello..')\n",
        "# worksheet.write('B1', 'Geeks')\n",
        "# worksheet.write('C1', 'For')\n",
        "# worksheet.write('D1', 'Geeks')\n",
        "  \n",
        "# Finally, close the Excel file\n",
        "# via the close() method.\n",
        "# workbook.close()\n",
        "workbook.save(filename=\"Turf.xlsx\")"
      ],
      "execution_count": null,
      "outputs": [
        {
          "output_type": "error",
          "ename": "AttributeError",
          "evalue": "ignored",
          "traceback": [
            "\u001b[0;31m---------------------------------------------------------------------------\u001b[0m",
            "\u001b[0;31mAttributeError\u001b[0m                            Traceback (most recent call last)",
            "\u001b[0;32m<ipython-input-7-e70d5848a15f>\u001b[0m in \u001b[0;36m<module>\u001b[0;34m()\u001b[0m\n\u001b[1;32m     19\u001b[0m \u001b[0;31m# via the close() method.\u001b[0m\u001b[0;34m\u001b[0m\u001b[0;34m\u001b[0m\u001b[0;34m\u001b[0m\u001b[0m\n\u001b[1;32m     20\u001b[0m \u001b[0;31m# workbook.close()\u001b[0m\u001b[0;34m\u001b[0m\u001b[0;34m\u001b[0m\u001b[0;34m\u001b[0m\u001b[0m\n\u001b[0;32m---> 21\u001b[0;31m \u001b[0mworkbook\u001b[0m\u001b[0;34m.\u001b[0m\u001b[0msave\u001b[0m\u001b[0;34m(\u001b[0m\u001b[0mfilename\u001b[0m\u001b[0;34m=\u001b[0m\u001b[0;34m\"Turf.xlsx\"\u001b[0m\u001b[0;34m)\u001b[0m\u001b[0;34m\u001b[0m\u001b[0;34m\u001b[0m\u001b[0m\n\u001b[0m",
            "\u001b[0;31mAttributeError\u001b[0m: 'Workbook' object has no attribute 'save'"
          ]
        }
      ]
    },
    {
      "cell_type": "code",
      "metadata": {
        "id": "hJIp_fhtM9Bc"
      },
      "source": [
        "# importing openpyxl module\n",
        "import openpyxl as xl;\n",
        "\n",
        "# opening the source excel file\n",
        "filename =\"TurfManagement_Rlwellington1.xlsx\"\n",
        "wb1 = xl.load_workbook(filename)\n",
        "ws1 = wb1.worksheets[0]\n",
        "\n",
        "# opening the destination excel file\n",
        "filename1 =\"Turf.xlsx\"\n",
        "wb2 = xl.load_workbook(filename1)\n",
        "ws2 = wb2.active\n",
        "\n",
        "# calculate total number of rows and\n",
        "# columns in source excel file\n",
        "mr = ws1.max_row\n",
        "mc = ws1.max_column\n",
        "\n",
        "# copying the cell values from source\n",
        "# excel file to destination excel file\n",
        "\n",
        "for i in range (1, mr + 1):\n",
        "\tfor j in range (1, mc + 1):\n",
        "\t\t# reading cell value from source excel file\n",
        "\t\tc = ws1.cell(row = i, column = j)\n",
        "\n",
        "\t\t# writing the read value to destination excel file\n",
        "\t\tws2.cell(row = i, column = j).value = c.value\n",
        "\n",
        "# saving the destination excel file\n",
        "wb2.save(str(filename1))\n"
      ],
      "execution_count": null,
      "outputs": []
    },
    {
      "cell_type": "code",
      "metadata": {
        "id": "EU2ltlpRM9Df"
      },
      "source": [
        "from openpyxl import load_workbook\n",
        "wb2 = load_workbook('Turf.xlsx')\n",
        "wb2.create_sheet('sheet2')\n",
        "wb2.save('Turf.xlsx')"
      ],
      "execution_count": null,
      "outputs": []
    },
    {
      "cell_type": "code",
      "metadata": {
        "id": "W3ctkv0rM9Fl",
        "colab": {
          "base_uri": "https://localhost:8080/"
        },
        "outputId": "93d59268-ab5b-4dd3-bf53-3b2b07a4abf0"
      },
      "source": [
        "import openpyxl as xl;\n",
        "\n",
        "# opening the source excel file\n",
        "filename =\"TurfManagement_Rlwellington1.xlsx\"\n",
        "wb1 = xl.load_workbook(filename)\n",
        "ws1 = wb1.worksheets[0]\n",
        "column_a = ws1['A1']\n",
        "print(column_a)\n",
        "# for cell in column_a:\n",
        "#   print(cell.value)"
      ],
      "execution_count": null,
      "outputs": [
        {
          "output_type": "stream",
          "text": [
            "<Cell 'Sheet1'.A1>\n"
          ],
          "name": "stdout"
        }
      ]
    },
    {
      "cell_type": "code",
      "metadata": {
        "id": "DxMCEuLbM9IM",
        "colab": {
          "base_uri": "https://localhost:8080/"
        },
        "outputId": "5a7b5807-f7fd-43c8-d8c8-a99649a7063e"
      },
      "source": [
        "wb1 = xl.load_workbook(filename)\n",
        "ws1 = wb1.worksheets[0]\n",
        "column_name = 'Time'\n",
        "for column_cell in ws1.iter_cols(1, ws1.max_column):  \n",
        "  if column_cell[0].value == column_name :\n",
        "    j = 0\n",
        "    for data in column_cell[1:]:\n",
        "      date1 = datetime.time(16,43,00)\n",
        "      if  data.value==date1:\n",
        "        print(data.value)\n",
        "        break\n",
        "\n",
        "mr = ws1.max_row\n",
        "mc = ws1.max_column\n",
        "\n",
        "# copying the cell values from source\n",
        "# excel file to destination excel file\n",
        "\n",
        "for i in range (1, mr + 1):\n",
        "\tfor j in range (1, mc + 1):\n",
        "\t\t# reading cell value from source excel file\n",
        "\t\tc = ws1.cell(row = i, column = j)\n",
        "\n",
        "\t\t# writing the read value to destination excel file\n",
        "\t\tws2.cell(row = i, column = j).value = c.value\n",
        "\n",
        "# saving the destination excel file\n",
        "wb2.save(str(filename1))"
      ],
      "execution_count": null,
      "outputs": [
        {
          "output_type": "stream",
          "text": [
            "16:43:00\n"
          ],
          "name": "stdout"
        }
      ]
    },
    {
      "cell_type": "code",
      "metadata": {
        "colab": {
          "base_uri": "https://localhost:8080/"
        },
        "id": "5KARS7aNWYtd",
        "outputId": "58bfab14-9b24-4041-ab60-2b66b5aceb56"
      },
      "source": [
        "import openpyxl as xl\n",
        "from openpyxl.utils import get_column_letter\n",
        "\n",
        "# opening the source excel file\n",
        "filename =\"TurfManagement_Rlwellington1.xlsx\"\n",
        "wb1 = xl.load_workbook(filename)\n",
        "ws1 = wb1.worksheets[0]\n",
        "\n",
        "# opening the destination excel file\n",
        "filename1 =\"Turf.xlsx\"\n",
        "wb2 = xl.load_workbook(filename1)\n",
        "ws2 = wb2.active\n",
        "\n",
        "# calculate total number of rows and\n",
        "# columns in source excel file\n",
        "column_name = 'Time'\n",
        "mr = ws1.max_row\n",
        "mc = ws1.max_column\n",
        "\n",
        "# copying the cell values from source\n",
        "# excel file to destination excel file\n",
        "# for column_cell in ws1.iter_cols(1, mc):  \n",
        "#   if column_cell[0].value == column_name :\n",
        "#     for data in column_cell[1:]:\n",
        "date1=datetime.time(00,12,00)\n",
        "for row in ws1.iter_rows():\n",
        "  for cell in row:\n",
        "    if cell.value == date1:\n",
        "      for i in range (1, mc + 1):\n",
        "        ws1.cell(row=cell.row, column=i).value\n",
        "        ws2.cell(row = cell.row , column = i ).value = c.value\n",
        "        print(c.value)\n",
        "        #wb2.save(str(filename1))\n",
        "        \n",
        "        \n"
      ],
      "execution_count": null,
      "outputs": [
        {
          "output_type": "stream",
          "text": [
            "\tBent Grass\n",
            "\tBent Grass\n",
            "\tBent Grass\n",
            "\tBent Grass\n",
            "\tBent Grass\n",
            "\tBent Grass\n",
            "\tBent Grass\n",
            "\tBent Grass\n",
            "\tBent Grass\n",
            "\tBent Grass\n",
            "\tBent Grass\n"
          ],
          "name": "stdout"
        }
      ]
    },
    {
      "cell_type": "code",
      "metadata": {
        "colab": {
          "base_uri": "https://localhost:8080/"
        },
        "id": "dTFdFGaUlXd1",
        "outputId": "e0f68909-1631-42e8-8ee5-347b78ec5f8e"
      },
      "source": [
        "date1=datetime.time(00,12,00)\n",
        "for row in ws1.iter_rows():\n",
        "    for cell in row:\n",
        "        if cell.value == date1:\n",
        "          for i in range (1, mc + 1):\n",
        "            print(ws1.cell(row=cell.row, column=i).value)"
      ],
      "execution_count": null,
      "outputs": [
        {
          "output_type": "stream",
          "text": [
            "499\n",
            "G1A0000353_ 2GFC\n",
            "July 12th 2021\n",
            "00:12:00\n",
            "4 \n",
            "0.6\n",
            "12\n",
            "25\n",
            "-41.139885\n",
            "175.012894\n",
            "Creeping Bentgrass\n"
          ],
          "name": "stdout"
        }
      ]
    },
    {
      "cell_type": "code",
      "metadata": {
        "id": "pCRqGyV-j3fk"
      },
      "source": [
        "import openpyxl as xl\n",
        "from openpyxl.utils import get_column_letter\n",
        "\n",
        "# opening the source excel file\n",
        "filename =\"newdata.xlsx\"\n",
        "wb1 = xl.load_workbook(filename)\n",
        "ws1 = wb1.worksheets[0]\n",
        "\n",
        "# opening the destination excel file\n",
        "filename1 =\"Turf.xlsx\"\n",
        "wb2 = xl.load_workbook(filename1)\n",
        "ws2 = wb2.active\n",
        "\n",
        "# calculate total number of rows and\n",
        "# columns in source excel file\n",
        "column_name = 'TimeInterval'\n",
        "mr = ws1.max_row\n",
        "mc = ws1.max_column\n",
        "\n",
        "# date1=datetime.time(00,12,00)\n",
        "date1= '4:00:00 AM'\n",
        "for row in ws1.iter_rows(min_row=1,max_row=mr+1):\n",
        "    for cell in row:\n",
        "        if cell.value == date1:\n",
        "          for i in range (1, mc + 1):\n",
        "            c=ws1.cell(row=cell.row, column=i).value\n",
        "            ws2.cell(row = cell.row , column = i ).value = c\n",
        "            print(c)\n",
        "            wb2.save(str(filename1))"
      ],
      "execution_count": null,
      "outputs": []
    },
    {
      "cell_type": "code",
      "metadata": {
        "id": "3asRycdxj_Dj"
      },
      "source": [
        ""
      ],
      "execution_count": null,
      "outputs": []
    },
    {
      "cell_type": "code",
      "metadata": {
        "id": "kRHqrip8j_AJ"
      },
      "source": [
        ""
      ],
      "execution_count": null,
      "outputs": []
    },
    {
      "cell_type": "code",
      "metadata": {
        "id": "nwNEVFWWj-9W"
      },
      "source": [
        ""
      ],
      "execution_count": null,
      "outputs": []
    },
    {
      "cell_type": "code",
      "metadata": {
        "id": "SWDfsCBmj-6U"
      },
      "source": [
        ""
      ],
      "execution_count": null,
      "outputs": []
    },
    {
      "cell_type": "code",
      "metadata": {
        "id": "zSg0x3Toj-3r"
      },
      "source": [
        ""
      ],
      "execution_count": null,
      "outputs": []
    },
    {
      "cell_type": "code",
      "metadata": {
        "id": "xkLb3dJ3JxHc"
      },
      "source": [
        "latitude={'G1A0000333':'-41.138691',\n",
        "          'G1A0000338': '-41.139042',\n",
        "          'G1A0000345':'-41.135422',\n",
        "          'G1A0000347': '-41.137749',\n",
        "          'G1A0000353': '-41.139885',\n",
        "          'G1A0000354':'-41.131798',\n",
        "          'G1A0000356':'-41.135559',\n",
        "          'G1A0000361':'-41.131882',\n",
        "          'G1A0000362':'-41.134605',\n",
        "          'G1A0000372':'-41.13538',\n",
        "          'G1A0000375':'-41.140022',\n",
        "          'G1A0000378':'-41.134697',\n",
        "          'G1A0000379':'-41.135281',\n",
        "          'G1A0000381':'-41.138222',\n",
        "          'G1A0000382':'-41.138042',\n",
        "          'G1A0000384':'-41.137661',\n",
        "          'G1A0000385':'-41.136711',\n",
        "          'G1A0000391':'-41.1367',\n",
        "          'G1A0000440':'-41.134724',\n",
        "          'G1A0000443':'-41.135387',\n",
        "          'G1A0000444':'-41.140182',\n",
        "          'G1A0000445':'-41.138893',\n",
        "          'G1A0000460':'-41.137833',\n",
        "          'G1A0000465':'-41.135441',\n",
        "          'G1A0000466':'-41.139759',\n",
        "          'G1A0000472':'-41.139942',\n",
        "          'G1A0000474':'-41.13974',\n",
        "          'G1A0000483':'-41.134953',\n",
        "          'G1A0000484':'-41.138744',\n",
        "          'G1A0000485':'-41.140102',\n",
        "          'G1A0000486':'-41.133652',\n",
        "          'G1A0000495':'-41.135887',\n",
        "          'G1A0000497':'-41.139687',\n",
        "          'G1A0000498':'-41.135189',\n",
        "          'G1A0000500':'-41.13271',\n",
        "          'G1A0000518':'-41.138454'}"
      ],
      "execution_count": null,
      "outputs": []
    },
    {
      "cell_type": "code",
      "metadata": {
        "id": "CYsNDZoVafqS"
      },
      "source": [
        "longitude={'G1A0000333':'175.020691',\n",
        "          'G1A0000338': '175.020737',\n",
        "          'G1A0000345':'175.024002',\n",
        "          'G1A0000347': '175.017578',\n",
        "          'G1A0000353': '175.012894',\n",
        "          'G1A0000354':'175.023636',\n",
        "          'G1A0000356':'175.020172',\n",
        "          'G1A0000361':'175.023315',\n",
        "          'G1A0000362':'175.022507',\n",
        "          'G1A0000372':'175.024292',\n",
        "          'G1A0000375':'175.012604',\n",
        "          'G1A0000378':'175.022095',\n",
        "          'G1A0000379':'175.020187',\n",
        "          'G1A0000381':'175.017807',\n",
        "          'G1A0000382':'175.017548',\n",
        "          'G1A0000384':'175.017456',\n",
        "          'G1A0000385':'175.016098',\n",
        "          'G1A0000391':'175.01564',\n",
        "          'G1A0000440':'175.02298',\n",
        "          'G1A0000443':'175.023468',\n",
        "          'G1A0000444':'175.020874',\n",
        "          'G1A0000445':'175.011658',\n",
        "          'G1A0000460':'175.019028',\n",
        "          'G1A0000465':'175.021118',\n",
        "          'G1A0000466':'175.021133',\n",
        "          'G1A0000472':'175.02092',\n",
        "          'G1A0000474':'175.020798',\n",
        "          'G1A0000483':'175.020477',\n",
        "          'G1A0000484':'175.010864',\n",
        "          'G1A0000485':'175.020615',\n",
        "          'G1A0000486':'175.022934',\n",
        "          'G1A0000495':'175.020218',\n",
        "          'G1A0000497':'175.012009',\n",
        "          'G1A0000498':'175.018204',\n",
        "          'G1A0000500':'175.021698',\n",
        "          'G1A0000518':'175.016235'}"
      ],
      "execution_count": null,
      "outputs": []
    },
    {
      "cell_type": "code",
      "metadata": {
        "id": "lNzM98cykDTq"
      },
      "source": [
        "import pandas as pd\n",
        "xls = pd.ExcelFile('newdata (1) (1).xlsx')\n",
        "df1 = pd.read_excel(xls, 'data_consolidated')\n"
      ],
      "execution_count": null,
      "outputs": []
    },
    {
      "cell_type": "code",
      "metadata": {
        "id": "51X6WtroPRQa"
      },
      "source": [
        "df1['Latitude'] = df1['SensorName'].map(latitude)\n",
        "df1['Longitude'] = df1['SensorName'].map(longitude)"
      ],
      "execution_count": null,
      "outputs": []
    },
    {
      "cell_type": "code",
      "metadata": {
        "id": "ZBBInwJqPRS5"
      },
      "source": [
        "df1"
      ],
      "execution_count": null,
      "outputs": []
    },
    {
      "cell_type": "code",
      "metadata": {
        "id": "zamOZCwIPRWW"
      },
      "source": [
        "from openpyxl import load_workbook\n",
        "book = load_workbook('Turf.xlsx')\n",
        "writer = pd.ExcelWriter('Turf.xlsx', engine = 'openpyxl')\n",
        "df1.to_excel(writer, sheet_name = 'data_consolidated')\n",
        "writer.save()\n",
        "writer.close()"
      ],
      "execution_count": null,
      "outputs": []
    },
    {
      "cell_type": "code",
      "metadata": {
        "id": "nDl7zQ9JgRxS"
      },
      "source": [
        "import os\n",
        "import openpyxl\n",
        "if os.path.exists('Turf.xlsx'):\n",
        "    book = openpyxl.load_workbook('Turf.xlsx')\n",
        "    writer.book = book\n",
        "df1.to_excel(writer, sheet_name = '11 30 00 PM')\n",
        "writer.save()\n",
        "writer.close()"
      ],
      "execution_count": null,
      "outputs": []
    },
    {
      "cell_type": "code",
      "metadata": {
        "id": "730SOdmJhddy"
      },
      "source": [
        ""
      ],
      "execution_count": null,
      "outputs": []
    }
  ]
}